{
  "nbformat": 4,
  "nbformat_minor": 0,
  "metadata": {
    "colab": {
      "name": "Trader.ipynb",
      "provenance": [],
      "collapsed_sections": []
    },
    "kernelspec": {
      "name": "python3",
      "display_name": "Python 3"
    },
    "language_info": {
      "name": "python"
    }
  },
  "cells": [
    {
      "cell_type": "markdown",
      "metadata": {
        "id": "view-in-github"
      },
      "source": [
        "<a href=\"https://colab.research.google.com/github/KGuzikowski/AlgTrading/blob/master/Trader.ipynb\" target=\"_parent\"><img src=\"https://colab.research.google.com/assets/colab-badge.svg\" alt=\"Open In Colab\"/></a>"
      ]
    },
    {
      "cell_type": "markdown",
      "metadata": {
        "id": "bk_vHlzCzaXF"
      },
      "source": [
        "# Setup\n"
      ]
    },
    {
      "cell_type": "code",
      "metadata": {
        "id": "SROloUrWzcZD",
        "colab": {
          "base_uri": "https://localhost:8080/"
        },
        "outputId": "34c60b3f-9aff-4140-8d2b-6ee0ae63a854"
      },
      "source": [
        "url = 'https://anaconda.org/conda-forge/libta-lib/0.4.0/download/linux-64/libta-lib-0.4.0-h516909a_0.tar.bz2'\n",
        "!curl -L $url | tar xj -C /usr/lib/x86_64-linux-gnu/ lib --strip-components=1\n",
        "url = 'https://anaconda.org/conda-forge/ta-lib/0.4.19/download/linux-64/ta-lib-0.4.19-py37ha21ca33_2.tar.bz2'\n",
        "!curl -L $url | tar xj -C /usr/local/lib/python3.7/dist-packages/ lib/python3.7/site-packages/talib --strip-components=3"
      ],
      "execution_count": 1,
      "outputs": [
        {
          "output_type": "stream",
          "name": "stdout",
          "text": [
            "  % Total    % Received % Xferd  Average Speed   Time    Time     Time  Current\n",
            "                                 Dload  Upload   Total   Spent    Left  Speed\n",
            "100  3765    0  3765    0     0   9389      0 --:--:-- --:--:-- --:--:--  9365\n",
            "100  503k  100  503k    0     0   463k      0  0:00:01  0:00:01 --:--:--  463k\n",
            "  % Total    % Received % Xferd  Average Speed   Time    Time     Time  Current\n",
            "                                 Dload  Upload   Total   Spent    Left  Speed\n",
            "100  3773    0  3773    0     0  24185      0 --:--:-- --:--:-- --:--:-- 24185\n",
            "100  406k  100  406k    0     0   509k      0 --:--:-- --:--:-- --:--:--  509k\n"
          ]
        }
      ]
    },
    {
      "cell_type": "code",
      "metadata": {
        "id": "rH9JmOxNzeIr",
        "colab": {
          "base_uri": "https://localhost:8080/"
        },
        "outputId": "eace4c3d-ede4-45aa-bdac-8a5c4532ea32"
      },
      "source": [
        "!pip install python-binance\n",
        "!pip install binance-client"
      ],
      "execution_count": 2,
      "outputs": [
        {
          "output_type": "stream",
          "name": "stdout",
          "text": [
            "Collecting python-binance\n",
            "  Downloading python_binance-1.0.15-py2.py3-none-any.whl (63 kB)\n",
            "\u001b[K     |████████████████████████████████| 63 kB 1.9 MB/s \n",
            "\u001b[?25hCollecting websockets==9.1\n",
            "  Downloading websockets-9.1-cp37-cp37m-manylinux2010_x86_64.whl (103 kB)\n",
            "\u001b[K     |████████████████████████████████| 103 kB 50.0 MB/s \n",
            "\u001b[?25hCollecting dateparser\n",
            "  Downloading dateparser-1.1.0-py2.py3-none-any.whl (288 kB)\n",
            "\u001b[K     |████████████████████████████████| 288 kB 48.0 MB/s \n",
            "\u001b[?25hRequirement already satisfied: requests in /usr/local/lib/python3.7/dist-packages (from python-binance) (2.23.0)\n",
            "Requirement already satisfied: six in /usr/local/lib/python3.7/dist-packages (from python-binance) (1.15.0)\n",
            "Collecting ujson\n",
            "  Downloading ujson-4.2.0-cp37-cp37m-manylinux_2_17_x86_64.manylinux2014_x86_64.whl (214 kB)\n",
            "\u001b[K     |████████████████████████████████| 214 kB 31.4 MB/s \n",
            "\u001b[?25hCollecting aiohttp\n",
            "  Downloading aiohttp-3.7.4.post0-cp37-cp37m-manylinux2014_x86_64.whl (1.3 MB)\n",
            "\u001b[K     |████████████████████████████████| 1.3 MB 42.4 MB/s \n",
            "\u001b[?25hCollecting multidict<7.0,>=4.5\n",
            "  Downloading multidict-5.2.0-cp37-cp37m-manylinux_2_5_x86_64.manylinux1_x86_64.manylinux_2_12_x86_64.manylinux2010_x86_64.whl (160 kB)\n",
            "\u001b[K     |████████████████████████████████| 160 kB 50.9 MB/s \n",
            "\u001b[?25hRequirement already satisfied: typing-extensions>=3.6.5 in /usr/local/lib/python3.7/dist-packages (from aiohttp->python-binance) (3.7.4.3)\n",
            "Collecting yarl<2.0,>=1.0\n",
            "  Downloading yarl-1.7.0-cp37-cp37m-manylinux_2_5_x86_64.manylinux1_x86_64.manylinux_2_12_x86_64.manylinux2010_x86_64.whl (271 kB)\n",
            "\u001b[K     |████████████████████████████████| 271 kB 53.2 MB/s \n",
            "\u001b[?25hCollecting async-timeout<4.0,>=3.0\n",
            "  Downloading async_timeout-3.0.1-py3-none-any.whl (8.2 kB)\n",
            "Requirement already satisfied: attrs>=17.3.0 in /usr/local/lib/python3.7/dist-packages (from aiohttp->python-binance) (21.2.0)\n",
            "Requirement already satisfied: chardet<5.0,>=2.0 in /usr/local/lib/python3.7/dist-packages (from aiohttp->python-binance) (3.0.4)\n",
            "Requirement already satisfied: idna>=2.0 in /usr/local/lib/python3.7/dist-packages (from yarl<2.0,>=1.0->aiohttp->python-binance) (2.10)\n",
            "Requirement already satisfied: pytz in /usr/local/lib/python3.7/dist-packages (from dateparser->python-binance) (2018.9)\n",
            "Requirement already satisfied: python-dateutil in /usr/local/lib/python3.7/dist-packages (from dateparser->python-binance) (2.8.2)\n",
            "Requirement already satisfied: regex!=2019.02.19,!=2021.8.27 in /usr/local/lib/python3.7/dist-packages (from dateparser->python-binance) (2019.12.20)\n",
            "Requirement already satisfied: tzlocal in /usr/local/lib/python3.7/dist-packages (from dateparser->python-binance) (1.5.1)\n",
            "Requirement already satisfied: certifi>=2017.4.17 in /usr/local/lib/python3.7/dist-packages (from requests->python-binance) (2021.5.30)\n",
            "Requirement already satisfied: urllib3!=1.25.0,!=1.25.1,<1.26,>=1.21.1 in /usr/local/lib/python3.7/dist-packages (from requests->python-binance) (1.24.3)\n",
            "Installing collected packages: multidict, yarl, async-timeout, websockets, ujson, dateparser, aiohttp, python-binance\n",
            "Successfully installed aiohttp-3.7.4.post0 async-timeout-3.0.1 dateparser-1.1.0 multidict-5.2.0 python-binance-1.0.15 ujson-4.2.0 websockets-9.1 yarl-1.7.0\n",
            "Collecting binance-client\n",
            "  Downloading binance_client-1.0.0-py3-none-any.whl (31 kB)\n",
            "Requirement already satisfied: urllib3>=1.15 in /usr/local/lib/python3.7/dist-packages (from binance-client) (1.24.3)\n",
            "Requirement already satisfied: python-dateutil in /usr/local/lib/python3.7/dist-packages (from binance-client) (2.8.2)\n",
            "Requirement already satisfied: six>=1.10 in /usr/local/lib/python3.7/dist-packages (from binance-client) (1.15.0)\n",
            "Requirement already satisfied: certifi in /usr/local/lib/python3.7/dist-packages (from binance-client) (2021.5.30)\n",
            "Installing collected packages: binance-client\n",
            "Successfully installed binance-client-1.0.0\n"
          ]
        }
      ]
    },
    {
      "cell_type": "code",
      "metadata": {
        "id": "018gOfaUzhLA"
      },
      "source": [
        "%matplotlib inline\n",
        "\n",
        "import binance.client\n",
        "import pandas as pd\n",
        "import numpy as np\n",
        "import time\n",
        "import os\n",
        "import requests\n",
        "from pprint import pprint\n",
        "import subprocess\n",
        "import datetime as dt\n",
        "import json\n",
        "import pandas as pd\n",
        "import talib\n",
        "\n",
        "import matplotlib.pyplot as plt\n",
        "import seaborn as sns\n",
        "\n",
        "# from xgboost import XGBClassifier\n",
        "from tqdm import tqdm"
      ],
      "execution_count": 3,
      "outputs": []
    },
    {
      "cell_type": "markdown",
      "metadata": {
        "id": "22bfwwS_zjCs"
      },
      "source": [
        "# Binance data fetch"
      ]
    },
    {
      "cell_type": "code",
      "metadata": {
        "id": "HhpOG4n3zk-C"
      },
      "source": [
        "from BinanceClient import BinanceClient\n",
        "from BinanceClient import get_data"
      ],
      "execution_count": 5,
      "outputs": []
    },
    {
      "cell_type": "code",
      "metadata": {
        "id": "JkoWthEazpZ7",
        "colab": {
          "base_uri": "https://localhost:8080/",
          "height": 419
        },
        "outputId": "0ae8511f-0101-4f2b-b299-fe5cc198007c"
      },
      "source": [
        "kline_df = get_data(dt.datetime(2021,10,7,10,0,0), \"BTCUSDT\")\n",
        "kline_df"
      ],
      "execution_count": 6,
      "outputs": [
        {
          "output_type": "execute_result",
          "data": {
            "text/html": [
              "<div>\n",
              "<style scoped>\n",
              "    .dataframe tbody tr th:only-of-type {\n",
              "        vertical-align: middle;\n",
              "    }\n",
              "\n",
              "    .dataframe tbody tr th {\n",
              "        vertical-align: top;\n",
              "    }\n",
              "\n",
              "    .dataframe thead th {\n",
              "        text-align: right;\n",
              "    }\n",
              "</style>\n",
              "<table border=\"1\" class=\"dataframe\">\n",
              "  <thead>\n",
              "    <tr style=\"text-align: right;\">\n",
              "      <th></th>\n",
              "      <th>open</th>\n",
              "      <th>high</th>\n",
              "      <th>low</th>\n",
              "      <th>close</th>\n",
              "      <th>vol</th>\n",
              "    </tr>\n",
              "  </thead>\n",
              "  <tbody>\n",
              "    <tr>\n",
              "      <th>2021-10-07 10:00:00</th>\n",
              "      <td>54300.57</td>\n",
              "      <td>54339.51</td>\n",
              "      <td>54240.98</td>\n",
              "      <td>54432.49</td>\n",
              "      <td>191.72031</td>\n",
              "    </tr>\n",
              "    <tr>\n",
              "      <th>2021-10-07 10:05:00</th>\n",
              "      <td>54339.51</td>\n",
              "      <td>54263.05</td>\n",
              "      <td>54200.00</td>\n",
              "      <td>54339.51</td>\n",
              "      <td>175.63492</td>\n",
              "    </tr>\n",
              "    <tr>\n",
              "      <th>2021-10-07 10:10:00</th>\n",
              "      <td>54263.04</td>\n",
              "      <td>54142.79</td>\n",
              "      <td>54100.01</td>\n",
              "      <td>54263.05</td>\n",
              "      <td>213.18491</td>\n",
              "    </tr>\n",
              "    <tr>\n",
              "      <th>2021-10-07 10:15:00</th>\n",
              "      <td>54143.84</td>\n",
              "      <td>54135.28</td>\n",
              "      <td>54088.39</td>\n",
              "      <td>54199.99</td>\n",
              "      <td>177.47716</td>\n",
              "    </tr>\n",
              "    <tr>\n",
              "      <th>2021-10-07 10:20:00</th>\n",
              "      <td>54135.28</td>\n",
              "      <td>54102.98</td>\n",
              "      <td>54046.67</td>\n",
              "      <td>54166.85</td>\n",
              "      <td>183.81866</td>\n",
              "    </tr>\n",
              "    <tr>\n",
              "      <th>...</th>\n",
              "      <td>...</td>\n",
              "      <td>...</td>\n",
              "      <td>...</td>\n",
              "      <td>...</td>\n",
              "      <td>...</td>\n",
              "    </tr>\n",
              "    <tr>\n",
              "      <th>2021-10-31 10:05:00</th>\n",
              "      <td>60548.03</td>\n",
              "      <td>60486.01</td>\n",
              "      <td>60401.00</td>\n",
              "      <td>60592.72</td>\n",
              "      <td>288.04123</td>\n",
              "    </tr>\n",
              "    <tr>\n",
              "      <th>2021-10-31 10:10:00</th>\n",
              "      <td>60486.01</td>\n",
              "      <td>60545.14</td>\n",
              "      <td>60350.00</td>\n",
              "      <td>60564.27</td>\n",
              "      <td>264.27309</td>\n",
              "    </tr>\n",
              "    <tr>\n",
              "      <th>2021-10-31 10:15:00</th>\n",
              "      <td>60545.00</td>\n",
              "      <td>60600.03</td>\n",
              "      <td>60350.00</td>\n",
              "      <td>60656.35</td>\n",
              "      <td>317.18245</td>\n",
              "    </tr>\n",
              "    <tr>\n",
              "      <th>2021-10-31 10:20:00</th>\n",
              "      <td>60600.02</td>\n",
              "      <td>60793.55</td>\n",
              "      <td>60568.78</td>\n",
              "      <td>60800.00</td>\n",
              "      <td>157.22836</td>\n",
              "    </tr>\n",
              "    <tr>\n",
              "      <th>2021-10-31 10:25:00</th>\n",
              "      <td>60793.53</td>\n",
              "      <td>60764.02</td>\n",
              "      <td>60701.00</td>\n",
              "      <td>60808.97</td>\n",
              "      <td>68.53094</td>\n",
              "    </tr>\n",
              "  </tbody>\n",
              "</table>\n",
              "<p>6918 rows × 5 columns</p>\n",
              "</div>"
            ],
            "text/plain": [
              "                         open      high       low     close        vol\n",
              "2021-10-07 10:00:00  54300.57  54339.51  54240.98  54432.49  191.72031\n",
              "2021-10-07 10:05:00  54339.51  54263.05  54200.00  54339.51  175.63492\n",
              "2021-10-07 10:10:00  54263.04  54142.79  54100.01  54263.05  213.18491\n",
              "2021-10-07 10:15:00  54143.84  54135.28  54088.39  54199.99  177.47716\n",
              "2021-10-07 10:20:00  54135.28  54102.98  54046.67  54166.85  183.81866\n",
              "...                       ...       ...       ...       ...        ...\n",
              "2021-10-31 10:05:00  60548.03  60486.01  60401.00  60592.72  288.04123\n",
              "2021-10-31 10:10:00  60486.01  60545.14  60350.00  60564.27  264.27309\n",
              "2021-10-31 10:15:00  60545.00  60600.03  60350.00  60656.35  317.18245\n",
              "2021-10-31 10:20:00  60600.02  60793.55  60568.78  60800.00  157.22836\n",
              "2021-10-31 10:25:00  60793.53  60764.02  60701.00  60808.97   68.53094\n",
              "\n",
              "[6918 rows x 5 columns]"
            ]
          },
          "metadata": {},
          "execution_count": 6
        }
      ]
    },
    {
      "cell_type": "markdown",
      "metadata": {
        "id": "YBUXK3SVzJHe"
      },
      "source": [
        "# Indicators"
      ]
    },
    {
      "cell_type": "code",
      "metadata": {
        "id": "5nEgLo-qzTxs"
      },
      "source": [
        "from indicators import *"
      ],
      "execution_count": 8,
      "outputs": []
    },
    {
      "cell_type": "code",
      "metadata": {
        "colab": {
          "base_uri": "https://localhost:8080/"
        },
        "id": "ctFIMivpepqM",
        "outputId": "870499c4-2fff-433d-ddf9-8850f0c18578"
      },
      "source": [
        "rsi_20 = RSI(timeperiod=20, lower=35, upper=70)\n",
        "print(rsi_20(kline_df))\n",
        "rsi_100 = RSI(timeperiod=100, lower=40, upper=60)\n",
        "print(rsi_100(kline_df))\n",
        "rsi_700 = RSI(timeperiod=700, lower=49.5, upper=55)\n",
        "print(rsi_700(kline_df))"
      ],
      "execution_count": 9,
      "outputs": [
        {
          "output_type": "stream",
          "name": "stdout",
          "text": [
            "0\n",
            "-1\n",
            "0\n"
          ]
        }
      ]
    },
    {
      "cell_type": "markdown",
      "metadata": {
        "id": "8lb8ebaMkpnp"
      },
      "source": [
        "### Bollinger Bands"
      ]
    },
    {
      "cell_type": "code",
      "metadata": {
        "id": "QrV4RexpgC9_"
      },
      "source": [
        ""
      ],
      "execution_count": 9,
      "outputs": []
    },
    {
      "cell_type": "code",
      "metadata": {
        "colab": {
          "base_uri": "https://localhost:8080/"
        },
        "id": "txI2jSMWqeDc",
        "outputId": "3b3c4650-877a-4769-e8a6-35c844735ae7"
      },
      "source": [
        "bb = BollingerBands(timeperiod=700, lower=2, upper=3)\n",
        "bb(kline_df)"
      ],
      "execution_count": 10,
      "outputs": [
        {
          "output_type": "execute_result",
          "data": {
            "text/plain": [
              "1"
            ]
          },
          "metadata": {},
          "execution_count": 10
        }
      ]
    },
    {
      "cell_type": "markdown",
      "metadata": {
        "id": "hvxmoBiKvmmt"
      },
      "source": [
        "### EMA small cross EMA big"
      ]
    },
    {
      "cell_type": "code",
      "metadata": {
        "id": "D818YmHNgFQ4"
      },
      "source": [
        ""
      ],
      "execution_count": 10,
      "outputs": []
    },
    {
      "cell_type": "code",
      "metadata": {
        "colab": {
          "base_uri": "https://localhost:8080/"
        },
        "id": "ekjY9DlOiacq",
        "outputId": "6ddb807c-4b66-4ad0-a6f0-6eb531bda556"
      },
      "source": [
        "ema_cross = EMACross(timeperiod_S=100, timeperiod_B=500)\n",
        "ema_cross(kline_df)"
      ],
      "execution_count": 11,
      "outputs": [
        {
          "output_type": "execute_result",
          "data": {
            "text/plain": [
              "0"
            ]
          },
          "metadata": {},
          "execution_count": 11
        }
      ]
    },
    {
      "cell_type": "markdown",
      "metadata": {
        "id": "S0Q6KtkVpQcV"
      },
      "source": [
        "### EMA\n",
        "Check where close price crosses EMA"
      ]
    },
    {
      "cell_type": "code",
      "metadata": {
        "id": "WoLJcxJIpCBe"
      },
      "source": [
        ""
      ],
      "execution_count": 11,
      "outputs": []
    },
    {
      "cell_type": "code",
      "metadata": {
        "colab": {
          "base_uri": "https://localhost:8080/"
        },
        "id": "QsK4Fnb87hcx",
        "outputId": "d9ce534f-1c50-4af6-9132-a56cf8d840bd"
      },
      "source": [
        "ema_100 = EMA(timeperiod=100)\n",
        "print(ema_100(kline_df))\n",
        "ema_500 = EMA(timeperiod=500)\n",
        "print(ema_500(kline_df))"
      ],
      "execution_count": 12,
      "outputs": [
        {
          "output_type": "stream",
          "name": "stdout",
          "text": [
            "0\n",
            "0\n"
          ]
        }
      ]
    },
    {
      "cell_type": "markdown",
      "metadata": {
        "id": "GkJQlLiixkw0"
      },
      "source": [
        "### Normalized EMA small cross normalized EMA big"
      ]
    },
    {
      "cell_type": "code",
      "metadata": {
        "id": "Is4agL3wxkw6"
      },
      "source": [
        ""
      ],
      "execution_count": 12,
      "outputs": []
    },
    {
      "cell_type": "code",
      "metadata": {
        "colab": {
          "base_uri": "https://localhost:8080/"
        },
        "id": "uhM1KtMFxkw8",
        "outputId": "0cb29980-ebc3-4d30-aea1-201dd53f4610"
      },
      "source": [
        "ema_cross = NormalizedEMACross(timeperiod_S=100, timeperiod_B=500)\n",
        "ema_cross(kline_df)"
      ],
      "execution_count": 13,
      "outputs": [
        {
          "output_type": "execute_result",
          "data": {
            "text/plain": [
              "1"
            ]
          },
          "metadata": {},
          "execution_count": 13
        }
      ]
    },
    {
      "cell_type": "markdown",
      "metadata": {
        "id": "jgZ0r5IMiZg8"
      },
      "source": [
        "### Normalized EMA smaller/bigger than 0"
      ]
    },
    {
      "cell_type": "code",
      "metadata": {
        "id": "p--ME5ohifnu"
      },
      "source": [
        ""
      ],
      "execution_count": 13,
      "outputs": []
    },
    {
      "cell_type": "code",
      "metadata": {
        "colab": {
          "base_uri": "https://localhost:8080/"
        },
        "id": "M3k_-ScKjdNm",
        "outputId": "3c4fff90-7f9f-438b-9a35-1c5af58c596a"
      },
      "source": [
        "ema_cross = NormalizedEMA(timeperiod=200)\n",
        "ema_cross(kline_df)"
      ],
      "execution_count": 14,
      "outputs": [
        {
          "output_type": "stream",
          "name": "stdout",
          "text": [
            "-0.7071067811865476\n"
          ]
        },
        {
          "output_type": "execute_result",
          "data": {
            "text/plain": [
              "-1"
            ]
          },
          "metadata": {},
          "execution_count": 14
        }
      ]
    },
    {
      "cell_type": "markdown",
      "metadata": {
        "id": "eBhfde6Uvoas"
      },
      "source": [
        "### MACD"
      ]
    },
    {
      "cell_type": "code",
      "metadata": {
        "id": "i1OoxxCGqlkP"
      },
      "source": [
        ""
      ],
      "execution_count": null,
      "outputs": []
    }
  ]
}