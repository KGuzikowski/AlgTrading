{
  "nbformat": 4,
  "nbformat_minor": 0,
  "metadata": {
    "colab": {
      "name": "Kopia notatnika Trader",
      "provenance": [],
      "collapsed_sections": [],
      "toc_visible": true,
      "authorship_tag": "ABX9TyMa5KFIMXTshF5jDZotnA/l",
      "include_colab_link": true
    },
    "kernelspec": {
      "name": "python3",
      "display_name": "Python 3"
    },
    "language_info": {
      "name": "python"
    }
  },
  "cells": [
    {
      "cell_type": "markdown",
      "metadata": {
        "id": "view-in-github",
        "colab_type": "text"
      },
      "source": [
        "<a href=\"https://colab.research.google.com/github/KGuzikowski/AlgTrading/blob/master/Trader.ipynb\" target=\"_parent\"><img src=\"https://colab.research.google.com/assets/colab-badge.svg\" alt=\"Open In Colab\"/></a>"
      ]
    },
    {
      "cell_type": "markdown",
      "metadata": {
        "id": "bk_vHlzCzaXF"
      },
      "source": [
        "# Setup\n"
      ]
    },
    {
      "cell_type": "code",
      "metadata": {
        "id": "SROloUrWzcZD",
        "colab": {
          "base_uri": "https://localhost:8080/"
        },
        "outputId": "4ce9a34b-b69e-47d5-ff88-7f42a9fd0254"
      },
      "source": [
        "url = 'https://anaconda.org/conda-forge/libta-lib/0.4.0/download/linux-64/libta-lib-0.4.0-h516909a_0.tar.bz2'\n",
        "!curl -L $url | tar xj -C /usr/lib/x86_64-linux-gnu/ lib --strip-components=1\n",
        "url = 'https://anaconda.org/conda-forge/ta-lib/0.4.19/download/linux-64/ta-lib-0.4.19-py37ha21ca33_2.tar.bz2'\n",
        "!curl -L $url | tar xj -C /usr/local/lib/python3.7/dist-packages/ lib/python3.7/site-packages/talib --strip-components=3"
      ],
      "execution_count": 1,
      "outputs": [
        {
          "output_type": "stream",
          "name": "stdout",
          "text": [
            "  % Total    % Received % Xferd  Average Speed   Time    Time     Time  Current\n",
            "                                 Dload  Upload   Total   Spent    Left  Speed\n",
            "100  3749    0  3749    0     0   8368      0 --:--:-- --:--:-- --:--:--  8349\n",
            "100  503k  100  503k    0     0   459k      0  0:00:01  0:00:01 --:--:--  459k\n",
            "  % Total    % Received % Xferd  Average Speed   Time    Time     Time  Current\n",
            "                                 Dload  Upload   Total   Spent    Left  Speed\n",
            "100  3761    0  3761    0     0   9040      0 --:--:-- --:--:-- --:--:--  9040\n",
            "100  406k  100  406k    0     0   401k      0  0:00:01  0:00:01 --:--:-- 2626k\n"
          ]
        }
      ]
    },
    {
      "cell_type": "code",
      "metadata": {
        "id": "rH9JmOxNzeIr",
        "colab": {
          "base_uri": "https://localhost:8080/"
        },
        "outputId": "3198f683-5d1d-4323-afd9-be4018cc85bd"
      },
      "source": [
        "!pip install python-binance\n",
        "!pip install binance-client"
      ],
      "execution_count": 2,
      "outputs": [
        {
          "output_type": "stream",
          "name": "stdout",
          "text": [
            "Collecting python-binance\n",
            "  Downloading python_binance-1.0.15-py2.py3-none-any.whl (63 kB)\n",
            "\u001b[?25l\r\u001b[K     |█████▏                          | 10 kB 17.2 MB/s eta 0:00:01\r\u001b[K     |██████████▎                     | 20 kB 19.5 MB/s eta 0:00:01\r\u001b[K     |███████████████▍                | 30 kB 21.5 MB/s eta 0:00:01\r\u001b[K     |████████████████████▌           | 40 kB 23.7 MB/s eta 0:00:01\r\u001b[K     |█████████████████████████▋      | 51 kB 9.4 MB/s eta 0:00:01\r\u001b[K     |██████████████████████████████▊ | 61 kB 10.2 MB/s eta 0:00:01\r\u001b[K     |████████████████████████████████| 63 kB 2.6 MB/s \n",
            "\u001b[?25hRequirement already satisfied: requests in /usr/local/lib/python3.7/dist-packages (from python-binance) (2.23.0)\n",
            "Collecting websockets==9.1\n",
            "  Downloading websockets-9.1-cp37-cp37m-manylinux2010_x86_64.whl (103 kB)\n",
            "\u001b[K     |████████████████████████████████| 103 kB 15.7 MB/s \n",
            "\u001b[?25hCollecting ujson\n",
            "  Downloading ujson-4.2.0-cp37-cp37m-manylinux_2_17_x86_64.manylinux2014_x86_64.whl (214 kB)\n",
            "\u001b[K     |████████████████████████████████| 214 kB 62.3 MB/s \n",
            "\u001b[?25hRequirement already satisfied: six in /usr/local/lib/python3.7/dist-packages (from python-binance) (1.15.0)\n",
            "Collecting aiohttp\n",
            "  Downloading aiohttp-3.7.4.post0-cp37-cp37m-manylinux2014_x86_64.whl (1.3 MB)\n",
            "\u001b[K     |████████████████████████████████| 1.3 MB 41.4 MB/s \n",
            "\u001b[?25hCollecting dateparser\n",
            "  Downloading dateparser-1.1.0-py2.py3-none-any.whl (288 kB)\n",
            "\u001b[K     |████████████████████████████████| 288 kB 60.5 MB/s \n",
            "\u001b[?25hRequirement already satisfied: chardet<5.0,>=2.0 in /usr/local/lib/python3.7/dist-packages (from aiohttp->python-binance) (3.0.4)\n",
            "Collecting async-timeout<4.0,>=3.0\n",
            "  Downloading async_timeout-3.0.1-py3-none-any.whl (8.2 kB)\n",
            "Collecting yarl<2.0,>=1.0\n",
            "  Downloading yarl-1.7.0-cp37-cp37m-manylinux_2_5_x86_64.manylinux1_x86_64.manylinux_2_12_x86_64.manylinux2010_x86_64.whl (271 kB)\n",
            "\u001b[K     |████████████████████████████████| 271 kB 62.8 MB/s \n",
            "\u001b[?25hRequirement already satisfied: typing-extensions>=3.6.5 in /usr/local/lib/python3.7/dist-packages (from aiohttp->python-binance) (3.7.4.3)\n",
            "Requirement already satisfied: attrs>=17.3.0 in /usr/local/lib/python3.7/dist-packages (from aiohttp->python-binance) (21.2.0)\n",
            "Collecting multidict<7.0,>=4.5\n",
            "  Downloading multidict-5.2.0-cp37-cp37m-manylinux_2_5_x86_64.manylinux1_x86_64.manylinux_2_12_x86_64.manylinux2010_x86_64.whl (160 kB)\n",
            "\u001b[K     |████████████████████████████████| 160 kB 57.6 MB/s \n",
            "\u001b[?25hRequirement already satisfied: idna>=2.0 in /usr/local/lib/python3.7/dist-packages (from yarl<2.0,>=1.0->aiohttp->python-binance) (2.10)\n",
            "Requirement already satisfied: pytz in /usr/local/lib/python3.7/dist-packages (from dateparser->python-binance) (2018.9)\n",
            "Requirement already satisfied: python-dateutil in /usr/local/lib/python3.7/dist-packages (from dateparser->python-binance) (2.8.2)\n",
            "Requirement already satisfied: tzlocal in /usr/local/lib/python3.7/dist-packages (from dateparser->python-binance) (1.5.1)\n",
            "Requirement already satisfied: regex!=2019.02.19,!=2021.8.27 in /usr/local/lib/python3.7/dist-packages (from dateparser->python-binance) (2019.12.20)\n",
            "Requirement already satisfied: certifi>=2017.4.17 in /usr/local/lib/python3.7/dist-packages (from requests->python-binance) (2021.5.30)\n",
            "Requirement already satisfied: urllib3!=1.25.0,!=1.25.1,<1.26,>=1.21.1 in /usr/local/lib/python3.7/dist-packages (from requests->python-binance) (1.24.3)\n",
            "Installing collected packages: multidict, yarl, async-timeout, websockets, ujson, dateparser, aiohttp, python-binance\n",
            "Successfully installed aiohttp-3.7.4.post0 async-timeout-3.0.1 dateparser-1.1.0 multidict-5.2.0 python-binance-1.0.15 ujson-4.2.0 websockets-9.1 yarl-1.7.0\n",
            "Collecting binance-client\n",
            "  Downloading binance_client-1.0.0-py3-none-any.whl (31 kB)\n",
            "Requirement already satisfied: python-dateutil in /usr/local/lib/python3.7/dist-packages (from binance-client) (2.8.2)\n",
            "Requirement already satisfied: urllib3>=1.15 in /usr/local/lib/python3.7/dist-packages (from binance-client) (1.24.3)\n",
            "Requirement already satisfied: six>=1.10 in /usr/local/lib/python3.7/dist-packages (from binance-client) (1.15.0)\n",
            "Requirement already satisfied: certifi in /usr/local/lib/python3.7/dist-packages (from binance-client) (2021.5.30)\n",
            "Installing collected packages: binance-client\n",
            "Successfully installed binance-client-1.0.0\n"
          ]
        }
      ]
    },
    {
      "cell_type": "code",
      "metadata": {
        "id": "018gOfaUzhLA"
      },
      "source": [
        "%matplotlib inline\n",
        "\n",
        "import binance.client\n",
        "import pandas as pd\n",
        "import numpy as np\n",
        "import time\n",
        "import os\n",
        "import requests\n",
        "from pprint import pprint\n",
        "import subprocess\n",
        "import datetime as dt\n",
        "import json\n",
        "import pandas as pd\n",
        "import talib\n",
        "\n",
        "import matplotlib.pyplot as plt\n",
        "import seaborn as sns\n",
        "\n",
        "# from xgboost import XGBClassifier\n",
        "from tqdm import tqdm"
      ],
      "execution_count": 3,
      "outputs": []
    },
    {
      "cell_type": "markdown",
      "metadata": {
        "id": "22bfwwS_zjCs"
      },
      "source": [
        "# Binance data fetch"
      ]
    },
    {
      "cell_type": "code",
      "metadata": {
        "id": "HhpOG4n3zk-C"
      },
      "source": [
        "class BinanceClient():\n",
        "    column_names = [\n",
        "        'open_time',\n",
        "        'open',\n",
        "        'high',\n",
        "        'low',\n",
        "        'close',\n",
        "        'vol',\n",
        "        'close_time',\n",
        "        'quote_asset_volume',\n",
        "        'number_of_trades',\n",
        "        'taker_buy_base_asset_volume',\n",
        "        'taker_buy_quote_asset_volume',\n",
        "        'ignore'\n",
        "    ]\n",
        "\n",
        "    def __init__(self, api_key, api_secret, interval):\n",
        "        self.client = binance.client.Client(api_key, api_secret)\n",
        "        self.INTERVAL = interval\n",
        "\n",
        "    def polish_kline(self, raw_kline):\n",
        "        kline_d =  {\n",
        "            'open_time': raw_kline[0],\n",
        "            'open': raw_kline[1],\n",
        "            'close': raw_kline[2],\n",
        "            'low': raw_kline[3],\n",
        "            'high': raw_kline[4],\n",
        "            'vol': raw_kline[5]\n",
        "        }\n",
        "        kline_d['open_datetime'] = pd.to_datetime(kline_d['open_time'], unit='ms')\n",
        "        return kline_d\n",
        "\n",
        "    def historical_klines_generator(self, instrument, interval, start_dt, end_dt=None):\n",
        "        for kline in self.client.get_historical_klines_generator(instrument, interval, str(start_dt), str(end_dt) if end_dt else None):\n",
        "            yield self.polish_kline(kline)"
      ],
      "execution_count": 4,
      "outputs": []
    },
    {
      "cell_type": "code",
      "metadata": {
        "id": "JSVh4nv2zmnX"
      },
      "source": [
        "api_key = \"vT0XoiF4FbrpHbH04ZEew6A9jOORd79J4RdmId0CTT6wwX97EuY9hPCBcp9F904f\"\n",
        "api_secret = \"wcpF4Ne1tNGbq5vPx2oaXrpbE2JnNXhn6tKV6I32uKNdBMuEazRfDPiMJkIVqVr8\""
      ],
      "execution_count": 5,
      "outputs": []
    },
    {
      "cell_type": "code",
      "metadata": {
        "id": "B-nBwSzlzoWe"
      },
      "source": [
        "client = BinanceClient(api_key, api_secret, binance.client.Client.KLINE_INTERVAL_5MINUTE)\n",
        "\n",
        "start_date = dt.datetime(2021,10,7,10,0,0)\n",
        "instrument = \"BTCUSDT\"\n",
        "\n",
        "kline_df = pd.DataFrame(columns=[\"open\",\"high\",\"low\",\"close\",\"vol\"])\n",
        "for kline in client.historical_klines_generator(instrument, client.INTERVAL, start_date):\n",
        "    kline_df.loc[kline['open_datetime']] = (kline[\"open\"], kline[\"high\"], kline[\"low\"], kline[\"close\"], kline[\"vol\"])\n",
        "\n",
        "\n",
        "kline_df.open = kline_df.open.astype(float)\n",
        "kline_df.close = kline_df.close.astype(float)\n",
        "kline_df.low = kline_df.low.astype(float)\n",
        "kline_df.high = kline_df.high.astype(float)\n",
        "kline_df.vol = kline_df.vol.astype(float)"
      ],
      "execution_count": 6,
      "outputs": []
    },
    {
      "cell_type": "code",
      "metadata": {
        "id": "JkoWthEazpZ7",
        "colab": {
          "base_uri": "https://localhost:8080/",
          "height": 414
        },
        "outputId": "11191707-fdcf-4c03-a7fc-0b0c522036e4"
      },
      "source": [
        "kline_df"
      ],
      "execution_count": 7,
      "outputs": [
        {
          "output_type": "execute_result",
          "data": {
            "text/html": [
              "<div>\n",
              "<style scoped>\n",
              "    .dataframe tbody tr th:only-of-type {\n",
              "        vertical-align: middle;\n",
              "    }\n",
              "\n",
              "    .dataframe tbody tr th {\n",
              "        vertical-align: top;\n",
              "    }\n",
              "\n",
              "    .dataframe thead th {\n",
              "        text-align: right;\n",
              "    }\n",
              "</style>\n",
              "<table border=\"1\" class=\"dataframe\">\n",
              "  <thead>\n",
              "    <tr style=\"text-align: right;\">\n",
              "      <th></th>\n",
              "      <th>open</th>\n",
              "      <th>high</th>\n",
              "      <th>low</th>\n",
              "      <th>close</th>\n",
              "      <th>vol</th>\n",
              "    </tr>\n",
              "  </thead>\n",
              "  <tbody>\n",
              "    <tr>\n",
              "      <th>2021-10-07 10:00:00</th>\n",
              "      <td>54300.57</td>\n",
              "      <td>54339.51</td>\n",
              "      <td>54240.98</td>\n",
              "      <td>54432.49</td>\n",
              "      <td>191.72031</td>\n",
              "    </tr>\n",
              "    <tr>\n",
              "      <th>2021-10-07 10:05:00</th>\n",
              "      <td>54339.51</td>\n",
              "      <td>54263.05</td>\n",
              "      <td>54200.00</td>\n",
              "      <td>54339.51</td>\n",
              "      <td>175.63492</td>\n",
              "    </tr>\n",
              "    <tr>\n",
              "      <th>2021-10-07 10:10:00</th>\n",
              "      <td>54263.04</td>\n",
              "      <td>54142.79</td>\n",
              "      <td>54100.01</td>\n",
              "      <td>54263.05</td>\n",
              "      <td>213.18491</td>\n",
              "    </tr>\n",
              "    <tr>\n",
              "      <th>2021-10-07 10:15:00</th>\n",
              "      <td>54143.84</td>\n",
              "      <td>54135.28</td>\n",
              "      <td>54088.39</td>\n",
              "      <td>54199.99</td>\n",
              "      <td>177.47716</td>\n",
              "    </tr>\n",
              "    <tr>\n",
              "      <th>2021-10-07 10:20:00</th>\n",
              "      <td>54135.28</td>\n",
              "      <td>54102.98</td>\n",
              "      <td>54046.67</td>\n",
              "      <td>54166.85</td>\n",
              "      <td>183.81866</td>\n",
              "    </tr>\n",
              "    <tr>\n",
              "      <th>...</th>\n",
              "      <td>...</td>\n",
              "      <td>...</td>\n",
              "      <td>...</td>\n",
              "      <td>...</td>\n",
              "      <td>...</td>\n",
              "    </tr>\n",
              "    <tr>\n",
              "      <th>2021-10-31 16:50:00</th>\n",
              "      <td>60651.45</td>\n",
              "      <td>60657.00</td>\n",
              "      <td>60576.67</td>\n",
              "      <td>60674.28</td>\n",
              "      <td>78.11614</td>\n",
              "    </tr>\n",
              "    <tr>\n",
              "      <th>2021-10-31 16:55:00</th>\n",
              "      <td>60657.00</td>\n",
              "      <td>60670.07</td>\n",
              "      <td>60621.06</td>\n",
              "      <td>60700.00</td>\n",
              "      <td>127.41825</td>\n",
              "    </tr>\n",
              "    <tr>\n",
              "      <th>2021-10-31 17:00:00</th>\n",
              "      <td>60670.07</td>\n",
              "      <td>60572.98</td>\n",
              "      <td>60542.77</td>\n",
              "      <td>60698.33</td>\n",
              "      <td>114.07823</td>\n",
              "    </tr>\n",
              "    <tr>\n",
              "      <th>2021-10-31 17:05:00</th>\n",
              "      <td>60572.98</td>\n",
              "      <td>60518.16</td>\n",
              "      <td>60508.31</td>\n",
              "      <td>60581.80</td>\n",
              "      <td>79.03302</td>\n",
              "    </tr>\n",
              "    <tr>\n",
              "      <th>2021-10-31 17:10:00</th>\n",
              "      <td>60518.15</td>\n",
              "      <td>60573.68</td>\n",
              "      <td>60490.01</td>\n",
              "      <td>60577.28</td>\n",
              "      <td>41.42702</td>\n",
              "    </tr>\n",
              "  </tbody>\n",
              "</table>\n",
              "<p>6999 rows × 5 columns</p>\n",
              "</div>"
            ],
            "text/plain": [
              "                         open      high       low     close        vol\n",
              "2021-10-07 10:00:00  54300.57  54339.51  54240.98  54432.49  191.72031\n",
              "2021-10-07 10:05:00  54339.51  54263.05  54200.00  54339.51  175.63492\n",
              "2021-10-07 10:10:00  54263.04  54142.79  54100.01  54263.05  213.18491\n",
              "2021-10-07 10:15:00  54143.84  54135.28  54088.39  54199.99  177.47716\n",
              "2021-10-07 10:20:00  54135.28  54102.98  54046.67  54166.85  183.81866\n",
              "...                       ...       ...       ...       ...        ...\n",
              "2021-10-31 16:50:00  60651.45  60657.00  60576.67  60674.28   78.11614\n",
              "2021-10-31 16:55:00  60657.00  60670.07  60621.06  60700.00  127.41825\n",
              "2021-10-31 17:00:00  60670.07  60572.98  60542.77  60698.33  114.07823\n",
              "2021-10-31 17:05:00  60572.98  60518.16  60508.31  60581.80   79.03302\n",
              "2021-10-31 17:10:00  60518.15  60573.68  60490.01  60577.28   41.42702\n",
              "\n",
              "[6999 rows x 5 columns]"
            ]
          },
          "metadata": {},
          "execution_count": 7
        }
      ]
    },
    {
      "cell_type": "markdown",
      "metadata": {
        "id": "YBUXK3SVzJHe"
      },
      "source": [
        "# Indicators"
      ]
    },
    {
      "cell_type": "markdown",
      "metadata": {
        "id": "JMODc2UxzPKi"
      },
      "source": [
        "## Indicator base class"
      ]
    },
    {
      "cell_type": "code",
      "metadata": {
        "id": "Cf3h5W9oxonJ"
      },
      "source": [
        "class Indicator:\n",
        "    prev_states = []\n",
        "\n",
        "    def __init__(self, timeperiod):\n",
        "        self._timeperiod = timeperiod\n",
        "\n",
        "    def __function(self):\n",
        "        raise NotImplementedError()\n",
        "\n",
        "    def __call__(self, df):\n",
        "        \"\"\"\n",
        "        return:\n",
        "        1 -> sell\n",
        "        0 -> do nothing\n",
        "        -1 -> buy\n",
        "        \"\"\"\n",
        "        return self._function(df)"
      ],
      "execution_count": 8,
      "outputs": []
    },
    {
      "cell_type": "markdown",
      "metadata": {
        "id": "MhF9ACl-zIIt"
      },
      "source": [
        "## Indicators' definitions"
      ]
    },
    {
      "cell_type": "markdown",
      "metadata": {
        "id": "Dk-ziohYzVAP"
      },
      "source": [
        "### RSI"
      ]
    },
    {
      "cell_type": "code",
      "metadata": {
        "id": "5nEgLo-qzTxs"
      },
      "source": [
        "class RSI(Indicator):\n",
        "    def __init__(self, timeperiod, lower, upper):\n",
        "        super().__init__(timeperiod)\n",
        "        self._lower = lower\n",
        "        self._upper = upper\n",
        "\n",
        "    def _function(self, df):\n",
        "        rsi = talib.RSI(df.close.tail(self._timeperiod + 1), timeperiod=self._timeperiod).iloc[-1]\n",
        "        \n",
        "        if rsi >= self._upper:\n",
        "            return 1\n",
        "        elif rsi <= self._lower:\n",
        "            return -1\n",
        "        else:\n",
        "            return 0\n"
      ],
      "execution_count": 9,
      "outputs": []
    },
    {
      "cell_type": "code",
      "metadata": {
        "colab": {
          "base_uri": "https://localhost:8080/"
        },
        "id": "ctFIMivpepqM",
        "outputId": "43961646-5576-4dfb-a67c-c1f6b1e20ad0"
      },
      "source": [
        "rsi_20 = RSI(timeperiod=20, lower=35, upper=70)\n",
        "print(rsi_20(kline_df))\n",
        "rsi_100 = RSI(timeperiod=100, lower=40, upper=60)\n",
        "print(rsi_100(kline_df))\n",
        "rsi_700 = RSI(timeperiod=700, lower=49.5, upper=55)\n",
        "print(rsi_700(kline_df))"
      ],
      "execution_count": 10,
      "outputs": [
        {
          "output_type": "stream",
          "name": "stdout",
          "text": [
            "0\n",
            "0\n",
            "-1\n"
          ]
        }
      ]
    },
    {
      "cell_type": "markdown",
      "metadata": {
        "id": "8lb8ebaMkpnp"
      },
      "source": [
        "### Bollinger Bands"
      ]
    },
    {
      "cell_type": "code",
      "metadata": {
        "id": "QrV4RexpgC9_"
      },
      "source": [
        "class BollingerBands(Indicator):\n",
        "    def __init__(self, timeperiod, lower=2, upper=3):\n",
        "        super().__init__(timeperiod)\n",
        "        self._lower = lower\n",
        "        self._upper = upper\n",
        "\n",
        "    def _function(self, df):\n",
        "        lower, middle, upper = talib.BBANDS(\n",
        "            df.close.tail(self._timeperiod + 1),\n",
        "            timeperiod=self._timeperiod,\n",
        "            nbdevup=self._upper,\n",
        "            nbdevdn=self._lower,\n",
        "            matype=0,\n",
        "        )\n",
        "        closing =  df.close.iloc[-1]\n",
        "\n",
        "        if closing >= upper.iloc[-1]:\n",
        "            return 1\n",
        "        elif closing <= lower.iloc[-1]:\n",
        "            return -1\n",
        "        else:\n",
        "            return 0"
      ],
      "execution_count": 11,
      "outputs": []
    },
    {
      "cell_type": "code",
      "metadata": {
        "colab": {
          "base_uri": "https://localhost:8080/"
        },
        "id": "txI2jSMWqeDc",
        "outputId": "064ad666-e15a-4648-ffb3-34089e23b36c"
      },
      "source": [
        "bb = BollingerBands(timeperiod=700, lower=2, upper=3)\n",
        "bb(kline_df)"
      ],
      "execution_count": 12,
      "outputs": [
        {
          "output_type": "execute_result",
          "data": {
            "text/plain": [
              "1"
            ]
          },
          "metadata": {},
          "execution_count": 12
        }
      ]
    },
    {
      "cell_type": "markdown",
      "metadata": {
        "id": "hvxmoBiKvmmt"
      },
      "source": [
        "### EMA small cross EMA big"
      ]
    },
    {
      "cell_type": "code",
      "metadata": {
        "id": "D818YmHNgFQ4"
      },
      "source": [
        "class EMACross(Indicator):\n",
        "    \"\"\"\n",
        "    If small EMA crosses big EMA from bottom -> buy\n",
        "    If small EMA crosses big EMA from top -> sell\n",
        "    \"\"\"\n",
        "    def __init__(self, timeperiod_S=100, timeperiod_B=500):\n",
        "        self._timeperiod_S = timeperiod_S\n",
        "        self._timeperiod_B = timeperiod_B\n",
        "\n",
        "    def _function(self, df):\n",
        "        ma_S = talib.EMA(df.close.tail(self._timeperiod_S + 1), timeperiod=self._timeperiod_S)\n",
        "        ma_B = talib.EMA(df.close.tail(self._timeperiod_B + 1), timeperiod=self._timeperiod_B)\n",
        "\n",
        "        ma_S0 = ma_S.iloc[-2]\n",
        "        ma_S1 = ma_S.iloc[-1]\n",
        "        ma_B0 = ma_B.iloc[-2]\n",
        "        ma_B1 = ma_B.iloc[-1]\n",
        "\n",
        "        if ma_S0 >= ma_B0 and ma_S1 <= ma_B1:\n",
        "            # cross from top\n",
        "            return 1\n",
        "        elif ma_S0 <= ma_B0 and ma_S1 >= ma_B1:\n",
        "            # cross from bottom\n",
        "            return -1\n",
        "        else:\n",
        "            return 0"
      ],
      "execution_count": 13,
      "outputs": []
    },
    {
      "cell_type": "code",
      "metadata": {
        "colab": {
          "base_uri": "https://localhost:8080/"
        },
        "id": "ekjY9DlOiacq",
        "outputId": "3dd61afb-d7fa-4d5b-878b-0e2d66b86e9d"
      },
      "source": [
        "ema_cross = EMACross(timeperiod_S=100, timeperiod_B=500)\n",
        "ema_cross(kline_df)"
      ],
      "execution_count": 14,
      "outputs": [
        {
          "output_type": "execute_result",
          "data": {
            "text/plain": [
              "0"
            ]
          },
          "metadata": {},
          "execution_count": 14
        }
      ]
    },
    {
      "cell_type": "markdown",
      "metadata": {
        "id": "S0Q6KtkVpQcV"
      },
      "source": [
        "### EMA\n",
        "Check where close price crosses EMA"
      ]
    },
    {
      "cell_type": "code",
      "metadata": {
        "id": "WoLJcxJIpCBe"
      },
      "source": [
        "class EMA(Indicator):\n",
        "    \"\"\"\n",
        "    If price crosses EMA from bottom -> buy\n",
        "    If price crosses EMA from top -> sell\n",
        "    \"\"\"\n",
        "    def __init__(self, timeperiod):\n",
        "        super().__init__(timeperiod)\n",
        "\n",
        "    def _function(self, df):\n",
        "        ma = talib.EMA(df.close.tail(self._timeperiod + 1), timeperiod=self._timeperiod)\n",
        "\n",
        "        ma0 = ma.iloc[-2]\n",
        "        ma1 = ma.iloc[-1]\n",
        "        close0 = df.close.iloc[-2]\n",
        "        close1 = df.close.iloc[-1]\n",
        "\n",
        "        if ma0 >= close0 and ma1 <= close1:\n",
        "            # cross from top\n",
        "            return 1\n",
        "        elif ma0 <= close0 and ma1 >= close1:\n",
        "            # cross from bottom\n",
        "            return -1\n",
        "        else:\n",
        "            return 0"
      ],
      "execution_count": 15,
      "outputs": []
    },
    {
      "cell_type": "code",
      "metadata": {
        "colab": {
          "base_uri": "https://localhost:8080/"
        },
        "id": "QsK4Fnb87hcx",
        "outputId": "6c3cafc2-c6f4-4fd7-bb50-f1bd6c525e5a"
      },
      "source": [
        "ema_100 = EMA(timeperiod=100)\n",
        "print(ema_100(kline_df))\n",
        "ema_500 = EMA(timeperiod=500)\n",
        "print(ema_500(kline_df))"
      ],
      "execution_count": 16,
      "outputs": [
        {
          "output_type": "stream",
          "name": "stdout",
          "text": [
            "0\n",
            "0\n"
          ]
        }
      ]
    },
    {
      "cell_type": "markdown",
      "metadata": {
        "id": "GkJQlLiixkw0"
      },
      "source": [
        "### Normalized EMA small cross normalized EMA big"
      ]
    },
    {
      "cell_type": "code",
      "metadata": {
        "id": "Is4agL3wxkw6"
      },
      "source": [
        "class NormalizedEMACross(Indicator):\n",
        "    \"\"\"\n",
        "    If small EMA crosses big EMA from bottom -> buy\n",
        "    If small EMA crosses big EMA from top -> sell\n",
        "    \"\"\"\n",
        "    def __init__(self, timeperiod_S=100, timeperiod_B=500):\n",
        "        self._timeperiod_S = timeperiod_S\n",
        "        self._timeperiod_B = timeperiod_B\n",
        "\n",
        "    def _function(self, df):\n",
        "        ma_S = talib.EMA(df.close.tail(self._timeperiod_S + 1), timeperiod=self._timeperiod_S)\n",
        "        ma_S = (ma_S-ma_S.mean())/ma_S.std()\n",
        "        ma_B = talib.EMA(df.close.tail(self._timeperiod_B + 1), timeperiod=self._timeperiod_B)\n",
        "        ma_B = (ma_B-ma_B.mean())/ma_B.std()\n",
        "\n",
        "        ma_S0 = ma_S.iloc[-2]\n",
        "        ma_S1 = ma_S.iloc[-1]\n",
        "        ma_B0 = ma_B.iloc[-2]\n",
        "        ma_B1 = ma_B.iloc[-1]\n",
        "\n",
        "        if ma_S0 >= ma_B0 and ma_S1 <= ma_B1:\n",
        "            # cross from top\n",
        "            return 1\n",
        "        elif ma_S0 <= ma_B0 and ma_S1 >= ma_B1:\n",
        "            # cross from bottom\n",
        "            return -1\n",
        "        else:\n",
        "            return 0"
      ],
      "execution_count": 17,
      "outputs": []
    },
    {
      "cell_type": "code",
      "metadata": {
        "colab": {
          "base_uri": "https://localhost:8080/"
        },
        "id": "uhM1KtMFxkw8",
        "outputId": "8bb281ef-3ea1-4172-f83f-68ab91a35023"
      },
      "source": [
        "ema_cross = NormalizedEMACross(timeperiod_S=100, timeperiod_B=500)\n",
        "ema_cross(kline_df)"
      ],
      "execution_count": 18,
      "outputs": [
        {
          "output_type": "execute_result",
          "data": {
            "text/plain": [
              "0"
            ]
          },
          "metadata": {},
          "execution_count": 18
        }
      ]
    },
    {
      "cell_type": "markdown",
      "metadata": {
        "id": "jgZ0r5IMiZg8"
      },
      "source": [
        "### Normalized EMA smaller/bigger than 0"
      ]
    },
    {
      "cell_type": "code",
      "metadata": {
        "id": "p--ME5ohifnu"
      },
      "source": [
        "class NormalizedEMA(Indicator):\n",
        "    \"\"\"\n",
        "    If normalized EMA > 0 -> sell\n",
        "    If normalized EMA < 0 -> buy\n",
        "    \"\"\"\n",
        "    def __init__(self, timeperiod=200):\n",
        "        self._timeperiod = timeperiod\n",
        "\n",
        "    def _function(self, df):\n",
        "        ma = talib.EMA(df.close.tail(self._timeperiod + 1), timeperiod=self._timeperiod)\n",
        "        ma = (ma-ma.mean())/ma.std()\n",
        "\n",
        "        ma = ma.iloc[-1]\n",
        "        print(ma)\n",
        "\n",
        "        if ma > 0:\n",
        "            return 1\n",
        "        elif ma < 0:\n",
        "            return -1\n",
        "        else:\n",
        "            return 0"
      ],
      "execution_count": 19,
      "outputs": []
    },
    {
      "cell_type": "code",
      "metadata": {
        "colab": {
          "base_uri": "https://localhost:8080/"
        },
        "id": "M3k_-ScKjdNm",
        "outputId": "faf3572a-637d-4b9b-cd24-a3a18ca63a82"
      },
      "source": [
        "ema_cross = NormalizedEMA(timeperiod=200)\n",
        "ema_cross(kline_df)"
      ],
      "execution_count": 20,
      "outputs": [
        {
          "output_type": "stream",
          "name": "stdout",
          "text": [
            "-0.707106781187448\n"
          ]
        },
        {
          "output_type": "execute_result",
          "data": {
            "text/plain": [
              "-1"
            ]
          },
          "metadata": {},
          "execution_count": 20
        }
      ]
    },
    {
      "cell_type": "markdown",
      "metadata": {
        "id": "eBhfde6Uvoas"
      },
      "source": [
        "### MACD"
      ]
    },
    {
      "cell_type": "code",
      "metadata": {
        "id": "i1OoxxCGqlkP"
      },
      "source": [
        "class MACD(Indicator):\n",
        "    \"\"\"\n",
        "    If small EMA crosses big EMA from bottom -> buy\n",
        "    If small EMA crosses big EMA from top -> sell\n",
        "    \"\"\"\n",
        "    def __init__(self, fastperiod=200, slowperiod=500, signalperiod=100):\n",
        "        self._fastperiod = fastperiod\n",
        "        self._slowperiod = slowperiod\n",
        "        self._signalperiod = signalperiod\n",
        "\n",
        "    def _function(self, df):\n",
        "        macd, macdsignal, _ = talib.MACD(df.close, fastperiod=self._fastperiod, slowperiod=self._slowperiod, signalperiod=self._signalperiod)\n",
        "        \n",
        "        macd_S1 = macd.iloc[-2]\n",
        "        macd_S2 = macd.iloc[-1]\n",
        "        macdsignal_S1 = macdsignal.iloc[-2]\n",
        "        macdsignal_S2 = macdsignal.iloc[-1]\n",
        "\n",
        "        if macd_S1 >= macdsignal_S1 and macd_S2 <= macdsignal_S2:\n",
        "            # cross from top\n",
        "            return 1\n",
        "        elif macd_S1 <= macdsignal_S1 and macd_S2 >= macdsignal_S2:\n",
        "            # cross from bottom\n",
        "            return -1\n",
        "        else:\n",
        "            return 0"
      ],
      "execution_count": 44,
      "outputs": []
    },
    {
      "cell_type": "code",
      "metadata": {
        "colab": {
          "base_uri": "https://localhost:8080/"
        },
        "id": "50ffgaP3VnnI",
        "outputId": "54ca5de7-3d71-46a7-bc93-a3619fe9c21c"
      },
      "source": [
        "macd = MACD(fastperiod=200, slowperiod=500, signalperiod=100)\n",
        "macd(kline_df)"
      ],
      "execution_count": 45,
      "outputs": [
        {
          "output_type": "execute_result",
          "data": {
            "text/plain": [
              "0"
            ]
          },
          "metadata": {},
          "execution_count": 45
        }
      ]
    },
    {
      "cell_type": "code",
      "metadata": {
        "id": "A2ByUARgV2yi"
      },
      "source": [
        ""
      ],
      "execution_count": null,
      "outputs": []
    }
  ]
}