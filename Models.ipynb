{
  "nbformat": 4,
  "nbformat_minor": 0,
  "metadata": {
    "colab": {
      "name": "Witamy w Colaboratory",
      "provenance": [],
      "collapsed_sections": []
    },
    "kernelspec": {
      "display_name": "Python 3",
      "name": "python3"
    }
  },
  "cells": [
    {
      "cell_type": "code",
      "metadata": {
        "colab": {
          "base_uri": "https://localhost:8080/"
        },
        "id": "S2oT-OziJxMQ",
        "outputId": "6459d257-52fc-4a63-8559-751bdb095b47"
      },
      "source": [
        "url = 'https://anaconda.org/conda-forge/libta-lib/0.4.0/download/linux-64/libta-lib-0.4.0-h516909a_0.tar.bz2'\n",
        "!curl -L $url | tar xj -C /usr/lib/x86_64-linux-gnu/ lib --strip-components=1\n",
        "url = 'https://anaconda.org/conda-forge/ta-lib/0.4.19/download/linux-64/ta-lib-0.4.19-py37ha21ca33_2.tar.bz2'\n",
        "!curl -L $url | tar xj -C /usr/local/lib/python3.7/dist-packages/ lib/python3.7/site-packages/talib --strip-components=3"
      ],
      "execution_count": 1,
      "outputs": [
        {
          "output_type": "stream",
          "name": "stdout",
          "text": [
            "  % Total    % Received % Xferd  Average Speed   Time    Time     Time  Current\n",
            "                                 Dload  Upload   Total   Spent    Left  Speed\n",
            "100  3745    0  3745    0     0  17022      0 --:--:-- --:--:-- --:--:-- 17022\n",
            "100  503k  100  503k    0     0   798k      0 --:--:-- --:--:-- --:--:-- 4767k\n",
            "  % Total    % Received % Xferd  Average Speed   Time    Time     Time  Current\n",
            "                                 Dload  Upload   Total   Spent    Left  Speed\n",
            "100  3753    0  3753    0     0  17786      0 --:--:-- --:--:-- --:--:-- 17786\n",
            "100  406k  100  406k    0     0   715k      0 --:--:-- --:--:-- --:--:--  715k\n"
          ]
        }
      ]
    },
    {
      "cell_type": "code",
      "metadata": {
        "colab": {
          "base_uri": "https://localhost:8080/"
        },
        "id": "BmosgeqTJ3MN",
        "outputId": "d82b3c82-1854-48d3-b956-46fa5437daeb"
      },
      "source": [
        "!pip install python-binance\n",
        "!pip install binance-client"
      ],
      "execution_count": 2,
      "outputs": [
        {
          "output_type": "stream",
          "name": "stdout",
          "text": [
            "Requirement already satisfied: python-binance in /usr/local/lib/python3.7/dist-packages (1.0.15)\n",
            "Requirement already satisfied: requests in /usr/local/lib/python3.7/dist-packages (from python-binance) (2.23.0)\n",
            "Requirement already satisfied: ujson in /usr/local/lib/python3.7/dist-packages (from python-binance) (4.2.0)\n",
            "Requirement already satisfied: dateparser in /usr/local/lib/python3.7/dist-packages (from python-binance) (1.1.0)\n",
            "Requirement already satisfied: six in /usr/local/lib/python3.7/dist-packages (from python-binance) (1.15.0)\n",
            "Requirement already satisfied: websockets==9.1 in /usr/local/lib/python3.7/dist-packages (from python-binance) (9.1)\n",
            "Requirement already satisfied: aiohttp in /usr/local/lib/python3.7/dist-packages (from python-binance) (3.8.0)\n",
            "Requirement already satisfied: async-timeout<5.0,>=4.0.0a3 in /usr/local/lib/python3.7/dist-packages (from aiohttp->python-binance) (4.0.0)\n",
            "Requirement already satisfied: charset-normalizer<3.0,>=2.0 in /usr/local/lib/python3.7/dist-packages (from aiohttp->python-binance) (2.0.7)\n",
            "Requirement already satisfied: typing-extensions>=3.7.4 in /usr/local/lib/python3.7/dist-packages (from aiohttp->python-binance) (3.7.4.3)\n",
            "Requirement already satisfied: multidict<7.0,>=4.5 in /usr/local/lib/python3.7/dist-packages (from aiohttp->python-binance) (5.2.0)\n",
            "Requirement already satisfied: aiosignal>=1.1.2 in /usr/local/lib/python3.7/dist-packages (from aiohttp->python-binance) (1.2.0)\n",
            "Requirement already satisfied: frozenlist>=1.1.1 in /usr/local/lib/python3.7/dist-packages (from aiohttp->python-binance) (1.2.0)\n",
            "Requirement already satisfied: yarl<2.0,>=1.0 in /usr/local/lib/python3.7/dist-packages (from aiohttp->python-binance) (1.7.2)\n",
            "Requirement already satisfied: asynctest==0.13.0 in /usr/local/lib/python3.7/dist-packages (from aiohttp->python-binance) (0.13.0)\n",
            "Requirement already satisfied: attrs>=17.3.0 in /usr/local/lib/python3.7/dist-packages (from aiohttp->python-binance) (21.2.0)\n",
            "Requirement already satisfied: idna>=2.0 in /usr/local/lib/python3.7/dist-packages (from yarl<2.0,>=1.0->aiohttp->python-binance) (2.10)\n",
            "Requirement already satisfied: python-dateutil in /usr/local/lib/python3.7/dist-packages (from dateparser->python-binance) (2.8.2)\n",
            "Requirement already satisfied: regex!=2019.02.19,!=2021.8.27 in /usr/local/lib/python3.7/dist-packages (from dateparser->python-binance) (2019.12.20)\n",
            "Requirement already satisfied: tzlocal in /usr/local/lib/python3.7/dist-packages (from dateparser->python-binance) (1.5.1)\n",
            "Requirement already satisfied: pytz in /usr/local/lib/python3.7/dist-packages (from dateparser->python-binance) (2018.9)\n",
            "Requirement already satisfied: chardet<4,>=3.0.2 in /usr/local/lib/python3.7/dist-packages (from requests->python-binance) (3.0.4)\n",
            "Requirement already satisfied: certifi>=2017.4.17 in /usr/local/lib/python3.7/dist-packages (from requests->python-binance) (2021.5.30)\n",
            "Requirement already satisfied: urllib3!=1.25.0,!=1.25.1,<1.26,>=1.21.1 in /usr/local/lib/python3.7/dist-packages (from requests->python-binance) (1.24.3)\n",
            "Requirement already satisfied: binance-client in /usr/local/lib/python3.7/dist-packages (1.0.0)\n",
            "Requirement already satisfied: python-dateutil in /usr/local/lib/python3.7/dist-packages (from binance-client) (2.8.2)\n",
            "Requirement already satisfied: urllib3>=1.15 in /usr/local/lib/python3.7/dist-packages (from binance-client) (1.24.3)\n",
            "Requirement already satisfied: six>=1.10 in /usr/local/lib/python3.7/dist-packages (from binance-client) (1.15.0)\n",
            "Requirement already satisfied: certifi in /usr/local/lib/python3.7/dist-packages (from binance-client) (2021.5.30)\n"
          ]
        }
      ]
    },
    {
      "cell_type": "code",
      "metadata": {
        "id": "2ZvqrO0kNoOy"
      },
      "source": [
        "import pandas as pd\n",
        "import numpy as np"
      ],
      "execution_count": 2,
      "outputs": []
    },
    {
      "cell_type": "code",
      "metadata": {
        "id": "MzMN-YhZJ07c"
      },
      "source": [
        "from get_data import crypto_data"
      ],
      "execution_count": 3,
      "outputs": []
    },
    {
      "cell_type": "code",
      "metadata": {
        "id": "LBDv8O5kFQyP"
      },
      "source": [
        "df = crypto_data()"
      ],
      "execution_count": 4,
      "outputs": []
    },
    {
      "cell_type": "markdown",
      "metadata": {
        "id": "FT1gMQMkLSUe"
      },
      "source": [
        "## Prepare dataset"
      ]
    },
    {
      "cell_type": "code",
      "metadata": {
        "id": "Z0UFCqNtLTpq"
      },
      "source": [
        "example = df[\"df_BTC\"]\n",
        "df_input = pd.DataFrame(columns = example.columns)\n",
        "for single in df.values():\n",
        "  df_input = df_input.append(single)"
      ],
      "execution_count": 5,
      "outputs": []
    },
    {
      "cell_type": "code",
      "metadata": {
        "id": "t8uPLsfMPVsj"
      },
      "source": [
        "df_output = np.zeros(df_input.shape[0])\n",
        "for i in range(1, df_input.price.shape[0]):\n",
        "  diff = df_input.price.iloc[i] - df_input.price.iloc[i-1]\n",
        "  if diff > 0:\n",
        "    df_output[i] = 1\n",
        "  elif diff < 0:\n",
        "    df_output[i] = -1"
      ],
      "execution_count": 6,
      "outputs": []
    },
    {
      "cell_type": "code",
      "metadata": {
        "id": "qR_LoepcNkxd"
      },
      "source": [
        "df_input_test = df_input.iloc[::5]\n",
        "df_input_train = df_input.iloc[1::5]\n",
        "df_input_train = df_input_train.append(df_input.iloc[2::5])\n",
        "df_input_train = df_input_train.append(df_input.iloc[3::5])\n",
        "df_input_train = df_input_train.append(df_input.iloc[4::5])"
      ],
      "execution_count": 7,
      "outputs": []
    },
    {
      "cell_type": "code",
      "metadata": {
        "id": "7duQ4HDsadt2"
      },
      "source": [
        "df_output_test = df_output[::5]\n",
        "df_output_train = df_output[1::5]\n",
        "df_output_train = np.concatenate((df_output_train, df_output[2::5]))\n",
        "df_output_train = np.concatenate((df_output_train, df_output[3::5]))\n",
        "df_output_train = np.concatenate((df_output_train, df_output[4::5]))"
      ],
      "execution_count": 8,
      "outputs": []
    },
    {
      "cell_type": "markdown",
      "metadata": {
        "id": "3rXnVgRYcZOP"
      },
      "source": [
        "## Decision trees"
      ]
    },
    {
      "cell_type": "code",
      "metadata": {
        "colab": {
          "base_uri": "https://localhost:8080/"
        },
        "id": "CRa1W-OrII94",
        "outputId": "f6c3b1d0-d12e-412f-f8ad-a14a60931e0f"
      },
      "source": [
        "from sklearn import tree\n",
        "clf = tree.DecisionTreeClassifier(max_depth=7)\n",
        "clf = clf.fit(df_input_train, df_output_train)\n",
        "print(\"decision tree score test: \", clf.score(df_input_test, df_output_test))\n",
        "print(\"decision tree score train: \", clf.score(df_input_train, df_output_train))"
      ],
      "execution_count": 9,
      "outputs": [
        {
          "output_type": "stream",
          "name": "stdout",
          "text": [
            "decision tree score test:  0.632009233432721\n",
            "decision tree score train:  0.6370566309967537\n"
          ]
        }
      ]
    },
    {
      "cell_type": "markdown",
      "metadata": {
        "id": "4lJiY4P5hx0m"
      },
      "source": [
        "## Naive bayes"
      ]
    },
    {
      "cell_type": "code",
      "metadata": {
        "id": "zlhDCzjQdb08"
      },
      "source": [
        "from sklearn.naive_bayes import GaussianNB\n",
        "from sklearn.naive_bayes import MultinomialNB"
      ],
      "execution_count": 10,
      "outputs": []
    },
    {
      "cell_type": "code",
      "metadata": {
        "colab": {
          "base_uri": "https://localhost:8080/"
        },
        "id": "eDXemuNedraa",
        "outputId": "0f87511f-0caa-4954-ba4d-bf6594e5ebb4"
      },
      "source": [
        "gnb = GaussianNB()\n",
        "gnb.fit(df_input_train, df_output_train)\n",
        "print(\"Gaussian NB score test: \", gnb.score(df_input_test, df_output_test))\n",
        "print(\"Gaussian NB score train: \",gnb.score(df_input_train, df_output_train))\n",
        "\n",
        "gnb = MultinomialNB()\n",
        "gnb.fit(df_input_train, df_output_train)\n",
        "print(\"Multinomial NB score test: \", gnb.score(df_input_test, df_output_test))\n",
        "print(\"Multinomial NB score train: \", gnb.score(df_input_train, df_output_train))"
      ],
      "execution_count": 11,
      "outputs": [
        {
          "output_type": "stream",
          "name": "stdout",
          "text": [
            "Gaussian NB score test:  0.18659228623641436\n",
            "Gaussian NB score train:  0.18929902609113863\n",
            "Multinomial NB score test:  0.25478503414446474\n",
            "Multinomial NB score train:  0.25343272814716844\n"
          ]
        }
      ]
    },
    {
      "cell_type": "markdown",
      "metadata": {
        "id": "XWwVP6RYh4pB"
      },
      "source": [
        "## Bayesian network"
      ]
    },
    {
      "cell_type": "markdown",
      "metadata": {
        "id": "UJEwkboIlL60"
      },
      "source": [
        "# TODO"
      ]
    },
    {
      "cell_type": "markdown",
      "metadata": {
        "id": "irNJqIZqlOcf"
      },
      "source": [
        "## Random Forest"
      ]
    },
    {
      "cell_type": "code",
      "metadata": {
        "colab": {
          "base_uri": "https://localhost:8080/"
        },
        "id": "70MVR4x6lQ1y",
        "outputId": "99f133d8-ce30-4284-bd1e-2416f815b9e1"
      },
      "source": [
        "from sklearn.ensemble import RandomForestClassifier\n",
        "clf = RandomForestClassifier(n_estimators=200, max_depth=20, random_state=0)\n",
        "clf.fit(df_input_train, df_output_train)\n",
        "print(\"random forest score test: \", clf.score(df_input_test, df_output_test))\n",
        "print(\"random forest score train: \", clf.score(df_input_train, df_output_train))"
      ],
      "execution_count": 12,
      "outputs": [
        {
          "output_type": "stream",
          "name": "stdout",
          "text": [
            "random forest score test:  0.6279696066172934\n",
            "random forest score train:  0.9431285319225682\n"
          ]
        }
      ]
    },
    {
      "cell_type": "markdown",
      "metadata": {
        "id": "Zr-o-nnUnBnP"
      },
      "source": [
        "## Boosting random forest with weghitng with evolutionara algorithm\n",
        "\n",
        "# TODO"
      ]
    },
    {
      "cell_type": "code",
      "metadata": {
        "id": "pAmRItQSlpvW"
      },
      "source": [
        ""
      ],
      "execution_count": 12,
      "outputs": []
    },
    {
      "cell_type": "markdown",
      "metadata": {
        "id": "ra9Yi8GAnsqO"
      },
      "source": [
        "## SUPPORT VECTOR MACHINES\n",
        "\n",
        "ktoś chce to sie może pobawić paramkami"
      ]
    },
    {
      "cell_type": "code",
      "metadata": {
        "colab": {
          "base_uri": "https://localhost:8080/"
        },
        "id": "VsOeRKX3nvKJ",
        "outputId": "fe6b63a7-d862-4743-d2c1-7b302afd3b96"
      },
      "source": [
        "from sklearn import svm\n",
        "#for gamma in []\n",
        "clf = svm.SVC()\n",
        "clf.fit(df_input_train, df_output_train)\n",
        "print(\"random forest score test: \", clf.score(df_input_test, df_output_test))\n",
        "print(\"random forest score train: \", clf.score(df_input_train, df_output_train))"
      ],
      "execution_count": 13,
      "outputs": [
        {
          "output_type": "stream",
          "name": "stdout",
          "text": [
            "random forest score test:  0.4704241608156199\n",
            "random forest score train:  0.4614404232295299\n"
          ]
        }
      ]
    },
    {
      "cell_type": "markdown",
      "metadata": {
        "id": "nrZkDTjtw3_P"
      },
      "source": [
        "## Neural network"
      ]
    },
    {
      "cell_type": "markdown",
      "metadata": {
        "id": "ECzqc0Xow7ul"
      },
      "source": [
        "### Classifier same as in previous example"
      ]
    },
    {
      "cell_type": "code",
      "metadata": {
        "id": "aJBh5Carx3gJ"
      },
      "source": [
        "import tensorflow as tf\n",
        "from tensorflow import keras\n",
        "from ten"
      ],
      "execution_count": 17,
      "outputs": []
    },
    {
      "cell_type": "code",
      "metadata": {
        "id": "pLYuRgKJyFJi",
        "outputId": "be2879a5-a9f1-4be1-d172-fa43f0e2bbf8",
        "colab": {
          "base_uri": "https://localhost:8080/"
        }
      },
      "source": [
        "df_output"
      ],
      "execution_count": 19,
      "outputs": [
        {
          "output_type": "execute_result",
          "data": {
            "text/plain": [
              "array([0., 1., 1., ..., 1., 1., 0.])"
            ]
          },
          "metadata": {},
          "execution_count": 19
        }
      ]
    },
    {
      "cell_type": "code",
      "metadata": {
        "id": "HQtYUEn9xghg"
      },
      "source": [
        "#model preparation\n",
        "ds_output_NN_train = tf.one_hot(df_output_train, depth = 2)\n",
        "ds_output_NN_test = tf.one_hot(df_output_test, depth = 2)"
      ],
      "execution_count": 20,
      "outputs": []
    },
    {
      "cell_type": "code",
      "metadata": {
        "id": "fAI-4pOdyOJR",
        "outputId": "4f72c40d-adfa-4ce6-c5dd-9f91ecccae28",
        "colab": {
          "base_uri": "https://localhost:8080/"
        }
      },
      "source": [
        "df_input.shape[1]"
      ],
      "execution_count": 28,
      "outputs": [
        {
          "output_type": "execute_result",
          "data": {
            "text/plain": [
              "26"
            ]
          },
          "metadata": {},
          "execution_count": 28
        }
      ]
    },
    {
      "cell_type": "code",
      "metadata": {
        "colab": {
          "base_uri": "https://localhost:8080/"
        },
        "id": "VVyXia2zpIHC",
        "outputId": "646c03e1-6840-48b9-a183-778a64746652"
      },
      "source": [
        "model = tf.keras.models.Sequential([                    \n",
        "  #tf.keras.layers.Conv1(filters= 2, kernel_size = 3, activation='tanh', use_bias=False),\n",
        "  #tf.keras.layers.MaxPool2D(),\n",
        "  #tf.keras.layers.Flatten(),\n",
        "  tf.keras.layers.Dense(10, use_bias=True, activation=\"relu\", input_shape=(26,)),\n",
        "  tf.keras.layers.Dense(5, use_bias=True, activation=\"tanh\"),\n",
        "  tf.keras.layers.Dense(2, use_bias=True, activation=\"sigmoid\")\n",
        "])\n",
        "\n",
        "model.compile(\n",
        "    optimizer=tf.keras.optimizers.Adam(0.0008),\n",
        "    loss=tf.keras.losses.BinaryCrossentropy(from_logits=True),\n",
        "    metrics=[tf.keras.metrics.BinaryAccuracy()],\n",
        ")\n",
        "\n",
        "model.fit(\n",
        "    df_input_train,\n",
        "    ds_output_NN_train,\n",
        "    epochs=4,validation_data = (df_input_test, ds_output_NN_test)\n",
        ")"
      ],
      "execution_count": 53,
      "outputs": [
        {
          "output_type": "stream",
          "name": "stdout",
          "text": [
            "Epoch 1/4\n"
          ]
        },
        {
          "output_type": "stream",
          "name": "stderr",
          "text": [
            "/usr/local/lib/python3.7/dist-packages/keras/backend.py:4994: UserWarning: \"`binary_crossentropy` received `from_logits=True`, but the `output` argument was produced by a sigmoid or softmax activation and thus does not represent logits. Was this intended?\"\n",
            "  '\"`binary_crossentropy` received `from_logits=True`, but the `output`'\n"
          ]
        },
        {
          "output_type": "stream",
          "name": "stdout",
          "text": [
            "1287/1300 [============================>.] - ETA: 0s - loss: 0.5676 - binary_accuracy: 0.6887"
          ]
        },
        {
          "output_type": "stream",
          "name": "stderr",
          "text": [
            "/usr/local/lib/python3.7/dist-packages/keras/backend.py:4994: UserWarning: \"`binary_crossentropy` received `from_logits=True`, but the `output` argument was produced by a sigmoid or softmax activation and thus does not represent logits. Was this intended?\"\n",
            "  '\"`binary_crossentropy` received `from_logits=True`, but the `output`'\n"
          ]
        },
        {
          "output_type": "stream",
          "name": "stdout",
          "text": [
            "1300/1300 [==============================] - 4s 2ms/step - loss: 0.5672 - binary_accuracy: 0.6891 - val_loss: 0.5107 - val_binary_accuracy: 0.7357\n",
            "Epoch 2/4\n",
            "1300/1300 [==============================] - 3s 2ms/step - loss: 0.5141 - binary_accuracy: 0.7304 - val_loss: 0.5098 - val_binary_accuracy: 0.7349\n",
            "Epoch 3/4\n",
            "1300/1300 [==============================] - 3s 2ms/step - loss: 0.5141 - binary_accuracy: 0.7303 - val_loss: 0.5097 - val_binary_accuracy: 0.7349\n",
            "Epoch 4/4\n",
            "1300/1300 [==============================] - 3s 2ms/step - loss: 0.5143 - binary_accuracy: 0.7302 - val_loss: 0.5102 - val_binary_accuracy: 0.7346\n"
          ]
        },
        {
          "output_type": "execute_result",
          "data": {
            "text/plain": [
              "<keras.callbacks.History at 0x7f0a93727350>"
            ]
          },
          "metadata": {},
          "execution_count": 53
        }
      ]
    },
    {
      "cell_type": "code",
      "metadata": {
        "id": "gajIEX2o2-7g"
      },
      "source": [
        ""
      ],
      "execution_count": null,
      "outputs": []
    }
  ]
}