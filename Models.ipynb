{
  "nbformat": 4,
  "nbformat_minor": 0,
  "metadata": {
    "colab": {
      "name": "Models.ipynb",
      "provenance": [],
      "collapsed_sections": []
    },
    "kernelspec": {
      "display_name": "Python 3",
      "name": "python3"
    }
  },
  "cells": [
    {
      "cell_type": "code",
      "metadata": {
        "id": "S2oT-OziJxMQ"
      },
      "source": [
        "url = 'https://anaconda.org/conda-forge/libta-lib/0.4.0/download/linux-64/libta-lib-0.4.0-h516909a_0.tar.bz2'\n",
        "!curl -L $url | tar xj -C /usr/lib/x86_64-linux-gnu/ lib --strip-components=1\n",
        "url = 'https://anaconda.org/conda-forge/ta-lib/0.4.19/download/linux-64/ta-lib-0.4.19-py37ha21ca33_2.tar.bz2'\n",
        "!curl -L $url | tar xj -C /usr/local/lib/python3.7/dist-packages/ lib/python3.7/site-packages/talib --strip-components=3"
      ],
      "execution_count": null,
      "outputs": []
    },
    {
      "cell_type": "code",
      "metadata": {
        "id": "BmosgeqTJ3MN"
      },
      "source": [
        "!pip install python-binance\n",
        "!pip install binance-client"
      ],
      "execution_count": null,
      "outputs": []
    },
    {
      "cell_type": "code",
      "metadata": {
        "id": "2ZvqrO0kNoOy"
      },
      "source": [
        "import pandas as pd\n",
        "import numpy as np\n",
        "import plotly.graph_objects as go"
      ],
      "execution_count": 3,
      "outputs": []
    },
    {
      "cell_type": "code",
      "metadata": {
        "id": "MzMN-YhZJ07c"
      },
      "source": [
        "from get_data import crypto_data"
      ],
      "execution_count": 4,
      "outputs": []
    },
    {
      "cell_type": "code",
      "metadata": {
        "id": "LBDv8O5kFQyP"
      },
      "source": [
        "df = crypto_data()"
      ],
      "execution_count": 5,
      "outputs": []
    },
    {
      "cell_type": "markdown",
      "metadata": {
        "id": "FT1gMQMkLSUe"
      },
      "source": [
        "## Prepare dataset"
      ]
    },
    {
      "cell_type": "code",
      "metadata": {
        "id": "Z0UFCqNtLTpq"
      },
      "source": [
        "example = df[\"df_BTC\"]\n",
        "df_input = pd.DataFrame(columns = example.columns)\n",
        "for single in df.values():\n",
        "  df_input = df_input.append(single)"
      ],
      "execution_count": 6,
      "outputs": []
    },
    {
      "cell_type": "code",
      "metadata": {
        "id": "t8uPLsfMPVsj"
      },
      "source": [
        "df_output = np.zeros(df_input.shape[0])\n",
        "for i in range(1, df_input.price.shape[0]):\n",
        "  diff = df_input.price.iloc[i] - df_input.price.iloc[i-1]\n",
        "  if diff > 0:\n",
        "    df_output[i] = 1\n",
        "  elif diff < 0:\n",
        "    df_output[i] = -1"
      ],
      "execution_count": 7,
      "outputs": []
    },
    {
      "cell_type": "code",
      "metadata": {
        "id": "qR_LoepcNkxd"
      },
      "source": [
        "df_input_test = df_input.iloc[::5]\n",
        "df_input_train = df_input.iloc[1::5]\n",
        "df_input_train = df_input_train.append(df_input.iloc[2::5])\n",
        "df_input_train = df_input_train.append(df_input.iloc[3::5])\n",
        "df_input_train = df_input_train.append(df_input.iloc[4::5])"
      ],
      "execution_count": 8,
      "outputs": []
    },
    {
      "cell_type": "code",
      "metadata": {
        "id": "7duQ4HDsadt2"
      },
      "source": [
        "df_output_test = df_output[::5]\n",
        "df_output_train = df_output[1::5]\n",
        "df_output_train = np.concatenate((df_output_train, df_output[2::5]))\n",
        "df_output_train = np.concatenate((df_output_train, df_output[3::5]))\n",
        "df_output_train = np.concatenate((df_output_train, df_output[4::5]))"
      ],
      "execution_count": 9,
      "outputs": []
    },
    {
      "cell_type": "markdown",
      "metadata": {
        "id": "3rXnVgRYcZOP"
      },
      "source": [
        "## Decision trees"
      ]
    },
    {
      "cell_type": "code",
      "metadata": {
        "id": "CRa1W-OrII94"
      },
      "source": [
        "from sklearn import tree\n",
        "clf = tree.DecisionTreeClassifier(max_depth=7)\n",
        "clf = clf.fit(df_input_train, df_output_train)\n",
        "print(\"decision tree score test: \", clf.score(df_input_test, df_output_test))\n",
        "print(\"decision tree score train: \", clf.score(df_input_train, df_output_train))"
      ],
      "execution_count": null,
      "outputs": []
    },
    {
      "cell_type": "code",
      "metadata": {
        "id": "acsoWnA2VTaO"
      },
      "source": [
        "df_plot = df[\"df_BTC\"]\n",
        "pred = clf.predict(df_plot)\n",
        "\n",
        "fig = go.Figure()\n",
        "fig.add_trace(go.Scatter(x=df_plot.index, y=df_plot.price, mode=\"lines\", name=\"price\"))\n",
        "fig.add_trace(go.Scatter(x=df_plot[pred==1].index, y=df_plot[pred==1].price, mode=\"markers\", marker=dict(size=4, color=\"hotpink\"), name=\"pred up\"))\n",
        "fig.add_trace(go.Scatter(x=df_plot[pred==-1].index, y=df_plot[pred==-1].price, mode=\"markers\", marker=dict(size=4, color=\"blue\"), name=\"pred down\"))\n",
        "fig.add_trace(go.Scatter(x=df_plot[pred==0].index, y=df_plot[pred==0].price, mode=\"markers\", marker=dict(size=4, color=\"green\"), name=\"dont know\"))\n",
        "\n",
        "\n",
        "fig.show()"
      ],
      "execution_count": null,
      "outputs": []
    },
    {
      "cell_type": "markdown",
      "metadata": {
        "id": "4lJiY4P5hx0m"
      },
      "source": [
        "## Naive bayes"
      ]
    },
    {
      "cell_type": "code",
      "metadata": {
        "id": "zlhDCzjQdb08"
      },
      "source": [
        "from sklearn.naive_bayes import GaussianNB\n",
        "from sklearn.naive_bayes import MultinomialNB"
      ],
      "execution_count": 43,
      "outputs": []
    },
    {
      "cell_type": "code",
      "metadata": {
        "id": "eDXemuNedraa"
      },
      "source": [
        "gnb = GaussianNB()\n",
        "gnb.fit(df_input_train, df_output_train)\n",
        "print(\"Gaussian NB score test: \", gnb.score(df_input_test, df_output_test))\n",
        "print(\"Gaussian NB score train: \",gnb.score(df_input_train, df_output_train))\n",
        "\n",
        "gnb = MultinomialNB()\n",
        "gnb.fit(df_input_train, df_output_train)\n",
        "print(\"Multinomial NB score test: \", gnb.score(df_input_test, df_output_test))\n",
        "print(\"Multinomial NB score train: \", gnb.score(df_input_train, df_output_train))"
      ],
      "execution_count": null,
      "outputs": []
    },
    {
      "cell_type": "code",
      "metadata": {
        "id": "XgcNJXnDYER5"
      },
      "source": [
        "#pojebana akcja\n",
        "np.unique(pred)"
      ],
      "execution_count": null,
      "outputs": []
    },
    {
      "cell_type": "code",
      "metadata": {
        "id": "_4wzLb-eX9eI"
      },
      "source": [
        "df_plot = df[\"df_BTC\"]\n",
        "pred = gnb.predict(df_plot)\n",
        "\n",
        "fig = go.Figure()\n",
        "fig.add_trace(go.Scatter(x=df_plot.index, y=df_plot.price, mode=\"lines\", name=\"price\"))\n",
        "fig.add_trace(go.Scatter(x=df_plot[pred==1].index, y=df_plot[pred==1].price, mode=\"markers\", marker=dict(size=4, color=\"hotpink\"), name=\"pred up\"))\n",
        "fig.add_trace(go.Scatter(x=df_plot[pred==-1].index, y=df_plot[pred==-1].price, mode=\"markers\", marker=dict(size=4, color=\"blue\"), name=\"pred down\"))\n",
        "fig.add_trace(go.Scatter(x=df_plot[pred==0].index, y=df_plot[pred==0].price, mode=\"markers\", marker=dict(size=4, color=\"green\"), name=\"dont know\"))\n",
        "\n",
        "\n",
        "fig.show()"
      ],
      "execution_count": null,
      "outputs": []
    },
    {
      "cell_type": "markdown",
      "metadata": {
        "id": "XWwVP6RYh4pB"
      },
      "source": [
        "## Bayesian network"
      ]
    },
    {
      "cell_type": "markdown",
      "metadata": {
        "id": "UJEwkboIlL60"
      },
      "source": [
        "# TODO"
      ]
    },
    {
      "cell_type": "markdown",
      "metadata": {
        "id": "irNJqIZqlOcf"
      },
      "source": [
        "## Random Forest"
      ]
    },
    {
      "cell_type": "code",
      "metadata": {
        "id": "70MVR4x6lQ1y"
      },
      "source": [
        "from sklearn.ensemble import RandomForestClassifier\n",
        "clf = RandomForestClassifier(n_estimators=200, max_depth=20, random_state=0)\n",
        "clf.fit(df_input_train, df_output_train)\n",
        "print(\"random forest score test: \", clf.score(df_input_test, df_output_test))\n",
        "print(\"random forest score train: \", clf.score(df_input_train, df_output_train))"
      ],
      "execution_count": null,
      "outputs": []
    },
    {
      "cell_type": "code",
      "metadata": {
        "id": "hDsOWNd7YKcC"
      },
      "source": [
        "df_plot = df[\"df_BTC\"]\n",
        "pred = clf.predict(df_plot)\n",
        "\n",
        "fig = go.Figure()\n",
        "fig.add_trace(go.Scatter(x=df_plot.index, y=df_plot.price, mode=\"lines\", name=\"price\"))\n",
        "fig.add_trace(go.Scatter(x=df_plot[pred==1].index, y=df_plot[pred==1].price, mode=\"markers\", marker=dict(size=4, color=\"hotpink\"), name=\"pred up\"))\n",
        "fig.add_trace(go.Scatter(x=df_plot[pred==-1].index, y=df_plot[pred==-1].price, mode=\"markers\", marker=dict(size=4, color=\"blue\"), name=\"pred down\"))\n",
        "fig.add_trace(go.Scatter(x=df_plot[pred==0].index, y=df_plot[pred==0].price, mode=\"markers\", marker=dict(size=4, color=\"green\"), name=\"dont know\"))\n",
        "\n",
        "\n",
        "fig.show()"
      ],
      "execution_count": null,
      "outputs": []
    },
    {
      "cell_type": "markdown",
      "metadata": {
        "id": "Zr-o-nnUnBnP"
      },
      "source": [
        "## Boosting random forest with weghitng with evolutionara algorithm\n",
        "\n",
        "# TODO"
      ]
    },
    {
      "cell_type": "code",
      "metadata": {
        "id": "pAmRItQSlpvW"
      },
      "source": [
        ""
      ],
      "execution_count": null,
      "outputs": []
    },
    {
      "cell_type": "markdown",
      "metadata": {
        "id": "ra9Yi8GAnsqO"
      },
      "source": [
        "## SUPPORT VECTOR MACHINES\n",
        "\n",
        "ktoś chce to sie może pobawić paramkami"
      ]
    },
    {
      "cell_type": "code",
      "metadata": {
        "id": "VsOeRKX3nvKJ"
      },
      "source": [
        "from sklearn import svm\n",
        "#for gamma in []\n",
        "clf = svm.SVC()\n",
        "clf.fit(df_input_train, df_output_train)\n",
        "print(\"random forest score test: \", clf.score(df_input_test, df_output_test))\n",
        "print(\"random forest score train: \", clf.score(df_input_train, df_output_train))"
      ],
      "execution_count": null,
      "outputs": []
    },
    {
      "cell_type": "markdown",
      "metadata": {
        "id": "nrZkDTjtw3_P"
      },
      "source": [
        "## Neural network"
      ]
    },
    {
      "cell_type": "markdown",
      "metadata": {
        "id": "ECzqc0Xow7ul"
      },
      "source": [
        "### Classifier same as in previous example"
      ]
    },
    {
      "cell_type": "code",
      "metadata": {
        "id": "aJBh5Carx3gJ"
      },
      "source": [
        "import tensorflow as tf\n",
        "from tensorflow import keras\n",
        "#from ten"
      ],
      "execution_count": 52,
      "outputs": []
    },
    {
      "cell_type": "code",
      "metadata": {
        "id": "HQtYUEn9xghg"
      },
      "source": [
        "#model preparation\n",
        "ds_output_NN_train = tf.one_hot(df_output_train, depth = 2)\n",
        "ds_output_NN_test = tf.one_hot(df_output_test, depth = 2)"
      ],
      "execution_count": 53,
      "outputs": []
    },
    {
      "cell_type": "code",
      "metadata": {
        "id": "fAI-4pOdyOJR"
      },
      "source": [
        "df_input.shape[1]"
      ],
      "execution_count": null,
      "outputs": []
    },
    {
      "cell_type": "code",
      "metadata": {
        "id": "VVyXia2zpIHC"
      },
      "source": [
        "model = tf.keras.models.Sequential([                    \n",
        "  #tf.keras.layers.Conv1(filters= 2, kernel_size = 3, activation='tanh', use_bias=False),\n",
        "  #tf.keras.layers.MaxPool2D(),\n",
        "  #tf.keras.layers.Flatten(),\n",
        "  tf.keras.layers.Dense(10, use_bias=True, activation=\"relu\", input_shape=(26,)),\n",
        "  tf.keras.layers.Dense(5, use_bias=True, activation=\"tanh\"),\n",
        "  tf.keras.layers.Dense(2, use_bias=True, activation=\"sigmoid\")\n",
        "])\n",
        "\n",
        "model.compile(\n",
        "    optimizer=tf.keras.optimizers.Adam(0.0008),\n",
        "    loss=tf.keras.losses.BinaryCrossentropy(from_logits=True),\n",
        "    metrics=[tf.keras.metrics.BinaryAccuracy()],\n",
        ")\n",
        "\n",
        "model.fit(\n",
        "    df_input_train,\n",
        "    ds_output_NN_train,\n",
        "    epochs=10,\n",
        "    validation_data = (df_input_test, ds_output_NN_test)\n",
        ")"
      ],
      "execution_count": null,
      "outputs": []
    },
    {
      "cell_type": "code",
      "metadata": {
        "id": "gajIEX2o2-7g"
      },
      "source": [
        "#XD\n",
        "df_plot = df[\"df_BTC\"]\n",
        "pred = np.argmax(model.predict(df_plot), axis = 1)\n",
        "\n",
        "fig = go.Figure()\n",
        "fig.add_trace(go.Scatter(x=df_plot.index, y=df_plot.price, mode=\"lines\", name=\"price\"))\n",
        "fig.add_trace(go.Scatter(x=df_plot[pred==1].index, y=df_plot[pred==1].price, mode=\"markers\", marker=dict(size=4, color=\"hotpink\"), name=\"pred up\"))\n",
        "fig.add_trace(go.Scatter(x=df_plot[pred==-1].index, y=df_plot[pred==-1].price, mode=\"markers\", marker=dict(size=4, color=\"blue\"), name=\"pred down\"))\n",
        "fig.add_trace(go.Scatter(x=df_plot[pred==0].index, y=df_plot[pred==0].price, mode=\"markers\", marker=dict(size=4, color=\"green\"), name=\"dont know\"))\n",
        "\n",
        "\n",
        "fig.show()"
      ],
      "execution_count": null,
      "outputs": []
    }
  ]
}