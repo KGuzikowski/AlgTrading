{
  "nbformat": 4,
  "nbformat_minor": 0,
  "metadata": {
    "colab": {
      "name": "Models.ipynb",
      "provenance": [],
      "collapsed_sections": []
    },
    "kernelspec": {
      "display_name": "Python 3",
      "name": "python3"
    }
  },
  "cells": [
    {
      "cell_type": "code",
      "metadata": {
        "id": "S2oT-OziJxMQ",
        "outputId": "1f393a85-06d7-4865-d9fd-33882fd0eee5",
        "colab": {
          "base_uri": "https://localhost:8080/"
        }
      },
      "source": [
        "url = 'https://anaconda.org/conda-forge/libta-lib/0.4.0/download/linux-64/libta-lib-0.4.0-h516909a_0.tar.bz2'\n",
        "!curl -L $url | tar xj -C /usr/lib/x86_64-linux-gnu/ lib --strip-components=1\n",
        "url = 'https://anaconda.org/conda-forge/ta-lib/0.4.19/download/linux-64/ta-lib-0.4.19-py37ha21ca33_2.tar.bz2'\n",
        "!curl -L $url | tar xj -C /usr/local/lib/python3.7/dist-packages/ lib/python3.7/site-packages/talib --strip-components=3"
      ],
      "execution_count": 1,
      "outputs": [
        {
          "output_type": "stream",
          "name": "stdout",
          "text": [
            "  % Total    % Received % Xferd  Average Speed   Time    Time     Time  Current\n",
            "                                 Dload  Upload   Total   Spent    Left  Speed\n",
            "100  3729    0  3729    0     0   9813      0 --:--:-- --:--:-- --:--:--  9813\n",
            "100  503k  100  503k    0     0   488k      0  0:00:01  0:00:01 --:--:-- 1572k\n",
            "  % Total    % Received % Xferd  Average Speed   Time    Time     Time  Current\n",
            "                                 Dload  Upload   Total   Spent    Left  Speed\n",
            "100  3737    0  3737    0     0   9706      0 --:--:-- --:--:-- --:--:--  9706\n",
            "100  406k  100  406k    0     0   395k      0  0:00:01  0:00:01 --:--:--  921k\n"
          ]
        }
      ]
    },
    {
      "cell_type": "code",
      "metadata": {
        "id": "BmosgeqTJ3MN",
        "outputId": "c10adaa7-8120-4797-8cc8-d4efb0fc5574",
        "colab": {
          "base_uri": "https://localhost:8080/"
        }
      },
      "source": [
        "!pip install python-binance\n",
        "!pip install binance-client"
      ],
      "execution_count": 2,
      "outputs": [
        {
          "output_type": "stream",
          "name": "stdout",
          "text": [
            "Requirement already satisfied: python-binance in /usr/local/lib/python3.7/dist-packages (1.0.15)\n",
            "Requirement already satisfied: websockets==9.1 in /usr/local/lib/python3.7/dist-packages (from python-binance) (9.1)\n",
            "Requirement already satisfied: aiohttp in /usr/local/lib/python3.7/dist-packages (from python-binance) (3.8.0)\n",
            "Requirement already satisfied: requests in /usr/local/lib/python3.7/dist-packages (from python-binance) (2.23.0)\n",
            "Requirement already satisfied: dateparser in /usr/local/lib/python3.7/dist-packages (from python-binance) (1.1.0)\n",
            "Requirement already satisfied: six in /usr/local/lib/python3.7/dist-packages (from python-binance) (1.15.0)\n",
            "Requirement already satisfied: ujson in /usr/local/lib/python3.7/dist-packages (from python-binance) (4.2.0)\n",
            "Requirement already satisfied: aiosignal>=1.1.2 in /usr/local/lib/python3.7/dist-packages (from aiohttp->python-binance) (1.2.0)\n",
            "Requirement already satisfied: asynctest==0.13.0 in /usr/local/lib/python3.7/dist-packages (from aiohttp->python-binance) (0.13.0)\n",
            "Requirement already satisfied: async-timeout<5.0,>=4.0.0a3 in /usr/local/lib/python3.7/dist-packages (from aiohttp->python-binance) (4.0.0)\n",
            "Requirement already satisfied: charset-normalizer<3.0,>=2.0 in /usr/local/lib/python3.7/dist-packages (from aiohttp->python-binance) (2.0.7)\n",
            "Requirement already satisfied: multidict<7.0,>=4.5 in /usr/local/lib/python3.7/dist-packages (from aiohttp->python-binance) (5.2.0)\n",
            "Requirement already satisfied: yarl<2.0,>=1.0 in /usr/local/lib/python3.7/dist-packages (from aiohttp->python-binance) (1.7.2)\n",
            "Requirement already satisfied: attrs>=17.3.0 in /usr/local/lib/python3.7/dist-packages (from aiohttp->python-binance) (21.2.0)\n",
            "Requirement already satisfied: typing-extensions>=3.7.4 in /usr/local/lib/python3.7/dist-packages (from aiohttp->python-binance) (3.7.4.3)\n",
            "Requirement already satisfied: frozenlist>=1.1.1 in /usr/local/lib/python3.7/dist-packages (from aiohttp->python-binance) (1.2.0)\n",
            "Requirement already satisfied: idna>=2.0 in /usr/local/lib/python3.7/dist-packages (from yarl<2.0,>=1.0->aiohttp->python-binance) (2.10)\n",
            "Requirement already satisfied: pytz in /usr/local/lib/python3.7/dist-packages (from dateparser->python-binance) (2018.9)\n",
            "Requirement already satisfied: tzlocal in /usr/local/lib/python3.7/dist-packages (from dateparser->python-binance) (1.5.1)\n",
            "Requirement already satisfied: regex!=2019.02.19,!=2021.8.27 in /usr/local/lib/python3.7/dist-packages (from dateparser->python-binance) (2019.12.20)\n",
            "Requirement already satisfied: python-dateutil in /usr/local/lib/python3.7/dist-packages (from dateparser->python-binance) (2.8.2)\n",
            "Requirement already satisfied: chardet<4,>=3.0.2 in /usr/local/lib/python3.7/dist-packages (from requests->python-binance) (3.0.4)\n",
            "Requirement already satisfied: certifi>=2017.4.17 in /usr/local/lib/python3.7/dist-packages (from requests->python-binance) (2021.5.30)\n",
            "Requirement already satisfied: urllib3!=1.25.0,!=1.25.1,<1.26,>=1.21.1 in /usr/local/lib/python3.7/dist-packages (from requests->python-binance) (1.24.3)\n",
            "Requirement already satisfied: binance-client in /usr/local/lib/python3.7/dist-packages (1.0.0)\n",
            "Requirement already satisfied: six>=1.10 in /usr/local/lib/python3.7/dist-packages (from binance-client) (1.15.0)\n",
            "Requirement already satisfied: python-dateutil in /usr/local/lib/python3.7/dist-packages (from binance-client) (2.8.2)\n",
            "Requirement already satisfied: urllib3>=1.15 in /usr/local/lib/python3.7/dist-packages (from binance-client) (1.24.3)\n",
            "Requirement already satisfied: certifi in /usr/local/lib/python3.7/dist-packages (from binance-client) (2021.5.30)\n"
          ]
        }
      ]
    },
    {
      "cell_type": "code",
      "metadata": {
        "id": "2ZvqrO0kNoOy"
      },
      "source": [
        "import pandas as pd\n",
        "import numpy as np\n",
        "import plotly.graph_objects as go"
      ],
      "execution_count": 3,
      "outputs": []
    },
    {
      "cell_type": "code",
      "metadata": {
        "id": "MzMN-YhZJ07c"
      },
      "source": [
        "from get_data import crypto_data\n",
        "from get_data import prepare_data"
      ],
      "execution_count": 4,
      "outputs": []
    },
    {
      "cell_type": "code",
      "metadata": {
        "id": "y5j7uigz873P"
      },
      "source": [
        "timeperiods = {}\n",
        "timeperiods[\"BB\"] = 100\n",
        "timeperiods[\"EMA\"] = 100\n",
        "timeperiods[\"ADX0\"] = 100\n",
        "timeperiods[\"ADX0var\"] = 100\n",
        "timeperiods[\"ATR0\"] = 100\n",
        "timeperiods[\"ARO0\"] = 100\n",
        "timeperiods[\"WLR0\"] = 100"
      ],
      "execution_count": 7,
      "outputs": []
    },
    {
      "cell_type": "code",
      "metadata": {
        "id": "LBDv8O5kFQyP"
      },
      "source": [
        "df = crypto_data(timeperiods)"
      ],
      "execution_count": 8,
      "outputs": []
    },
    {
      "cell_type": "code",
      "metadata": {
        "id": "q_C62ek1_PfH"
      },
      "source": [
        "from sklearn.naive_bayes import GaussianNB\n",
        "from sklearn.naive_bayes import MultinomialNB\n",
        "from sklearn import tree\n",
        "from sklearn.ensemble import RandomForestClassifier\n",
        "import tensorflow as tf\n",
        "from tensorflow import keras"
      ],
      "execution_count": 9,
      "outputs": []
    },
    {
      "cell_type": "code",
      "metadata": {
        "id": "xoOGLUd--5Hb"
      },
      "source": [
        "#test method\n",
        "def test_params(timeperiods):\n",
        "  df = crypto_data(timeperiods)\n",
        "  print(\"======================================================\")\n",
        "  print(\"test for periods: \", timeperiods)\n",
        "  example = df[\"df_BTC\"]\n",
        "  df_input = pd.DataFrame(columns = example.columns)\n",
        "  for single in df.values():\n",
        "    df_input = df_input.append(single)\n",
        "\n",
        "  df_output = np.zeros(df_input.shape[0])\n",
        "  for i in range(1, df_input.price.shape[0]):\n",
        "    diff = df_input.price.iloc[i] - df_input.price.iloc[i-1]\n",
        "    if diff > 0:\n",
        "      df_output[i] = 1\n",
        "    elif diff < 0:\n",
        "      df_output[i] = -1\n",
        "\n",
        "  df_input_test = df_input.iloc[::5]\n",
        "  df_input_train = df_input.iloc[1::5]\n",
        "  df_input_train = df_input_train.append(df_input.iloc[2::5])\n",
        "  df_input_train = df_input_train.append(df_input.iloc[3::5])\n",
        "  df_input_train = df_input_train.append(df_input.iloc[4::5])\n",
        "\n",
        "  df_output_test = df_output[::5]\n",
        "  df_output_train = df_output[1::5]\n",
        "  df_output_train = np.concatenate((df_output_train, df_output[2::5]))\n",
        "  df_output_train = np.concatenate((df_output_train, df_output[3::5]))\n",
        "  df_output_train = np.concatenate((df_output_train, df_output[4::5]))\n",
        "\n",
        "\n",
        "  clf = tree.DecisionTreeClassifier(max_depth=7)\n",
        "  clf = clf.fit(df_input_train, df_output_train)\n",
        "  preds = clf.predict(df_input_test)\n",
        "  print(\"decision tree score test: \", \n",
        "        clf.score(df_input_test, df_output_test), \n",
        "        \" up preds: \", np.sum(preds == 1),\n",
        "        \" down preds: \", np.sum(preds == -1),\n",
        "        \" 0 preds: \", np.sum(preds == -1))\n",
        "  print(\"decision tree score train: \", clf.score(df_input_train, df_output_train))\n",
        "\n",
        "\n",
        "  gnb = GaussianNB()\n",
        "  gnb.fit(df_input_train, df_output_train)\n",
        "  preds = gnb.predict(df_input_test)\n",
        "  print(\"Gaussian NB score test: \", \n",
        "        gnb.score(df_input_test, df_output_test),\n",
        "        \" up preds: \", np.sum(preds == 1),\n",
        "        \" down preds: \", np.sum(preds == -1),\n",
        "        \" 0 preds: \", np.sum(preds == -1)\n",
        "  )\n",
        "  print(\"Gaussian NB score train: \", gnb.score(df_input_train, df_output_train))\n",
        "\n",
        "  gnb = MultinomialNB()\n",
        "  gnb.fit(df_input_train, df_output_train)\n",
        "  preds = gnb.predict(df_input_test)\n",
        "  print(\"Multinomial NB score test: \", \n",
        "        gnb.score(df_input_test, df_output_test),\n",
        "        \" up preds: \", np.sum(preds == 1),\n",
        "        \" down preds: \", np.sum(preds == -1),\n",
        "        \" 0 preds: \", np.sum(preds == -1)\n",
        "  )\n",
        "  print(\"Multinomial NB score train: \", gnb.score(df_input_train, df_output_train))\n",
        "\n",
        "\n",
        "\n",
        "  clf = RandomForestClassifier(n_estimators=100, max_depth=3, random_state=0)\n",
        "  clf.fit(df_input_train, df_output_train)\n",
        "  preds = clf.predict(df_input_test)\n",
        "  print(\"random forest score test: \", \n",
        "        clf.score(df_input_test, df_output_test),\n",
        "        \" up preds: \", np.sum(preds == 1),\n",
        "        \" down preds: \", np.sum(preds == -1),\n",
        "        \" 0 preds: \", np.sum(preds == -1)\n",
        "  )\n",
        "  print(\"random forest score train: \", clf.score(df_input_train, df_output_train))\n",
        "\n",
        "\n",
        "\n",
        "  #model preparation\n",
        "  ds_output_NN_train = tf.one_hot(df_output_train, depth = 3)\n",
        "  ds_output_NN_test = tf.one_hot(df_output_test, depth = 3)\n",
        "\n",
        "  model = tf.keras.models.Sequential([                    \n",
        "    #tf.keras.layers.Conv1(filters= 2, kernel_size = 3, activation='tanh', use_bias=False),\n",
        "    #tf.keras.layers.MaxPool2D(),\n",
        "    #tf.keras.layers.Flatten(),\n",
        "    tf.keras.layers.Dense(10, use_bias=True, activation=\"relu\", input_shape=(df_input.shape[1],)),\n",
        "    tf.keras.layers.Dense(5, use_bias=True, activation=\"tanh\"),\n",
        "    tf.keras.layers.Dense(3, use_bias=True, activation=\"softmax\")\n",
        "  ])\n",
        "\n",
        "  model.compile(\n",
        "      optimizer=tf.keras.optimizers.Adam(0.0008),\n",
        "      loss=tf.keras.losses.CategoricalCrossentropy(),\n",
        "      metrics=[tf.keras.metrics.CategoricalAccuracy()],\n",
        "  )\n",
        "\n",
        "  model.fit(\n",
        "      df_input_train,\n",
        "      ds_output_NN_train,\n",
        "      epochs=10,\n",
        "      verbose = 0\n",
        "  )\n",
        "\n",
        "  print(\"NN score: \")\n",
        "  model.evaluate(df_input_test, ds_output_NN_test, verbose=1)\n",
        "  preds = model.predict(df_input_test)\n",
        "  print(\"NN score test: \", \n",
        "        \" up preds: \", np.sum(preds == 1),\n",
        "        \" down preds: \", np.sum(preds == -1),\n",
        "        \" 0 preds: \", np.sum(preds == -1)\n",
        "  )\n",
        "  print(\"======================================================\")"
      ],
      "execution_count": 10,
      "outputs": []
    },
    {
      "cell_type": "code",
      "metadata": {
        "id": "dNntifhINT4g",
        "outputId": "991a5667-92f3-4690-e889-ab5051a0c07d",
        "colab": {
          "base_uri": "https://localhost:8080/"
        }
      },
      "source": [
        "for timeperiod  in [10, 20, 50, 70, 100, 150]:\n",
        "  timeperiods = {}\n",
        "  timeperiods[\"BB\"] = timeperiod\n",
        "  timeperiods[\"EMA\"] = timeperiod\n",
        "  timeperiods[\"ADX0\"] = timeperiod\n",
        "  timeperiods[\"ADX0var\"] = timeperiod\n",
        "  timeperiods[\"ATR0\"] = timeperiod\n",
        "  timeperiods[\"ARO0\"] = timeperiod\n",
        "  timeperiods[\"WLR0\"] = timeperiod\n",
        "  test_params(timeperiods)"
      ],
      "execution_count": 11,
      "outputs": [
        {
          "output_type": "stream",
          "name": "stdout",
          "text": [
            "======================================================\n",
            "test for periods:  {'BB': 10, 'EMA': 10, 'ADX0': 10, 'ADX0var': 10, 'ATR0': 10, 'ARO0': 10, 'WLR0': 10}\n",
            "decision tree score test:  0.6658097686375322  up preds:  466  down preds:  677  0 preds:  677\n",
            "decision tree score train:  0.7256162915326902\n",
            "Gaussian NB score test:  0.11996572407883462  up preds:  42  down preds:  146  0 preds:  146\n",
            "Gaussian NB score train:  0.12668810289389068\n",
            "Multinomial NB score test:  0.24850042844901457  up preds:  9  down preds:  566  0 preds:  566\n",
            "Multinomial NB score train:  0.2463022508038585\n",
            "random forest score test:  0.6683804627249358  up preds:  424  down preds:  743  0 preds:  743\n",
            "random forest score train:  0.6668810289389068\n",
            "NN score: \n",
            "37/37 [==============================] - 0s 2ms/step - loss: 0.2914 - categorical_accuracy: 0.4524\n",
            "NN score test:   up preds:  0  down preds:  0  0 preds:  0\n",
            "======================================================\n",
            "======================================================\n",
            "test for periods:  {'BB': 20, 'EMA': 20, 'ADX0': 20, 'ADX0var': 20, 'ATR0': 20, 'ARO0': 20, 'WLR0': 20}\n",
            "decision tree score test:  0.6228775692582663  up preds:  472  down preds:  633  0 preds:  633\n",
            "decision tree score train:  0.685222445785826\n",
            "Gaussian NB score test:  0.12064343163538874  up preds:  42  down preds:  140  0 preds:  140\n",
            "Gaussian NB score train:  0.1265369997764364\n",
            "Multinomial NB score test:  0.2448614834673816  up preds:  8  down preds:  542  0 preds:  542\n",
            "Multinomial NB score train:  0.2454728370221328\n",
            "random forest score test:  0.6291331546023236  up preds:  280  down preds:  839  0 preds:  839\n",
            "random forest score train:  0.6255309635591326\n",
            "NN score: \n",
            "35/35 [==============================] - 0s 1ms/step - loss: 0.3057 - categorical_accuracy: 0.4549\n",
            "NN score test:   up preds:  0  down preds:  0  0 preds:  0\n",
            "======================================================\n",
            "======================================================\n",
            "test for periods:  {'BB': 50, 'EMA': 50, 'ADX0': 50, 'ADX0var': 50, 'ATR0': 50, 'ARO0': 50, 'WLR0': 50}\n",
            "decision tree score test:  0.5671794871794872  up preds:  190  down preds:  775  0 preds:  775\n",
            "decision tree score train:  0.6333076725686425\n",
            "Gaussian NB score test:  0.12  up preds:  41  down preds:  122  0 preds:  122\n",
            "Gaussian NB score train:  0.12573774698486015\n",
            "Multinomial NB score test:  0.24102564102564103  up preds:  9  down preds:  471  0 preds:  471\n",
            "Multinomial NB score train:  0.2468565563253785\n",
            "random forest score test:  0.5702564102564103  up preds:  182  down preds:  793  0 preds:  793\n",
            "random forest score train:  0.5976392096484475\n",
            "NN score: \n",
            "31/31 [==============================] - 0s 1ms/step - loss: 0.2862 - categorical_accuracy: 0.4605\n",
            "NN score test:   up preds:  0  down preds:  0  0 preds:  0\n",
            "======================================================\n",
            "======================================================\n",
            "test for periods:  {'BB': 70, 'EMA': 70, 'ADX0': 70, 'ADX0var': 70, 'ATR0': 70, 'ARO0': 70, 'WLR0': 70}\n",
            "decision tree score test:  0.565415244596132  up preds:  145  down preds:  726  0 preds:  726\n",
            "decision tree score train:  0.645317392541987\n",
            "Gaussian NB score test:  0.12400455062571103  up preds:  39  down preds:  110  0 preds:  110\n",
            "Gaussian NB score train:  0.12667235980643324\n",
            "Multinomial NB score test:  0.2434584755403868  up preds:  9  down preds:  424  0 preds:  424\n",
            "Multinomial NB score train:  0.24508966695132364\n",
            "random forest score test:  0.5665529010238908  up preds:  128  down preds:  751  0 preds:  751\n",
            "random forest score train:  0.5841161400512382\n",
            "NN score: \n",
            "28/28 [==============================] - 0s 1ms/step - loss: 0.3180 - categorical_accuracy: 0.4528\n",
            "NN score test:   up preds:  0  down preds:  0  0 preds:  0\n",
            "======================================================\n",
            "======================================================\n",
            "test for periods:  {'BB': 100, 'EMA': 100, 'ADX0': 100, 'ADX0var': 100, 'ATR0': 100, 'ARO0': 100, 'WLR0': 100}\n",
            "decision tree score test:  0.5251700680272109  up preds:  160  down preds:  556  0 preds:  556\n",
            "decision tree score train:  0.6254681647940075\n",
            "Gaussian NB score test:  0.1292517006802721  up preds:  36  down preds:  92  0 preds:  92\n",
            "Gaussian NB score train:  0.12938372488934285\n",
            "Multinomial NB score test:  0.23401360544217686  up preds:  7  down preds:  353  0 preds:  353\n",
            "Multinomial NB score train:  0.24514811031664965\n",
            "random forest score test:  0.5401360544217687  up preds:  120  down preds:  615  0 preds:  615\n",
            "random forest score train:  0.5812053115423902\n",
            "NN score: \n",
            "23/23 [==============================] - 0s 1ms/step - loss: 0.3013 - categorical_accuracy: 0.4639\n",
            "NN score test:   up preds:  0  down preds:  0  0 preds:  0\n",
            "======================================================\n",
            "======================================================\n",
            "test for periods:  {'BB': 150, 'EMA': 150, 'ADX0': 150, 'ADX0var': 150, 'ATR0': 150, 'ARO0': 150, 'WLR0': 150}\n",
            "decision tree score test:  0.49292929292929294  up preds:  77  down preds:  413  0 preds:  413\n",
            "decision tree score train:  0.6348002023267577\n",
            "Gaussian NB score test:  0.13333333333333333  up preds:  29  down preds:  67  0 preds:  67\n",
            "Gaussian NB score train:  0.13859382903388973\n",
            "Multinomial NB score test:  0.25656565656565655  up preds:  258  down preds:  0  0 preds:  0\n",
            "Multinomial NB score train:  0.2569549822964087\n",
            "random forest score test:  0.494949494949495  up preds:  63  down preds:  432  0 preds:  432\n",
            "random forest score train:  0.5746079919069297\n",
            "NN score: \n",
            "16/16 [==============================] - 0s 1ms/step - loss: 0.3047 - categorical_accuracy: 0.4465\n",
            "NN score test:   up preds:  0  down preds:  0  0 preds:  0\n",
            "======================================================\n"
          ]
        }
      ]
    },
    {
      "cell_type": "code",
      "metadata": {
        "id": "OOTixTtkGBn2"
      },
      "source": [
        ""
      ],
      "execution_count": null,
      "outputs": []
    }
  ]
}