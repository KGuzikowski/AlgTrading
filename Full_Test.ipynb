{
  "nbformat": 4,
  "nbformat_minor": 0,
  "metadata": {
    "colab": {
      "name": "Models.ipynb",
      "provenance": [],
      "collapsed_sections": []
    },
    "kernelspec": {
      "display_name": "Python 3",
      "name": "python3"
    }
  },
  "cells": [
    {
      "cell_type": "code",
      "metadata": {
        "id": "S2oT-OziJxMQ"
      },
      "source": [
        "url = 'https://anaconda.org/conda-forge/libta-lib/0.4.0/download/linux-64/libta-lib-0.4.0-h516909a_0.tar.bz2'\n",
        "!curl -L $url | tar xj -C /usr/lib/x86_64-linux-gnu/ lib --strip-components=1\n",
        "url = 'https://anaconda.org/conda-forge/ta-lib/0.4.19/download/linux-64/ta-lib-0.4.19-py37ha21ca33_2.tar.bz2'\n",
        "!curl -L $url | tar xj -C /usr/local/lib/python3.7/dist-packages/ lib/python3.7/site-packages/talib --strip-components=3"
      ],
      "execution_count": null,
      "outputs": []
    },
    {
      "cell_type": "code",
      "metadata": {
        "id": "BmosgeqTJ3MN"
      },
      "source": [
        "!pip install python-binance\n",
        "!pip install binance-client"
      ],
      "execution_count": null,
      "outputs": []
    },
    {
      "cell_type": "code",
      "metadata": {
        "id": "2ZvqrO0kNoOy"
      },
      "source": [
        "import pandas as pd\n",
        "import numpy as np\n",
        "import plotly.graph_objects as go"
      ],
      "execution_count": 1,
      "outputs": []
    },
    {
      "cell_type": "code",
      "metadata": {
        "id": "MzMN-YhZJ07c"
      },
      "source": [
        "from get_data import crypto_data\n",
        "from get_data import prepare_data"
      ],
      "execution_count": 2,
      "outputs": []
    },
    {
      "cell_type": "code",
      "metadata": {
        "id": "y5j7uigz873P"
      },
      "source": [
        "timeperiods = {}\n",
        "timeperiods[\"BB\"] = 700\n",
        "timeperiods[\"EMA\"] = 700\n",
        "timeperiods[\"ADX0\"] = 700\n",
        "timeperiods[\"ADX0var\"] = 700\n",
        "timeperiods[\"ATR0\"] = 700\n",
        "timeperiods[\"ARO0\"] = 700\n",
        "timeperiods[\"WLR0\"] = 700"
      ],
      "execution_count": 3,
      "outputs": []
    },
    {
      "cell_type": "code",
      "metadata": {
        "id": "LBDv8O5kFQyP"
      },
      "source": [
        "df = crypto_data(timeperiods)"
      ],
      "execution_count": null,
      "outputs": []
    },
    {
      "cell_type": "code",
      "metadata": {
        "id": "q_C62ek1_PfH"
      },
      "source": [
        "from sklearn.naive_bayes import GaussianNB\n",
        "from sklearn.naive_bayes import MultinomialNB\n",
        "from sklearn import tree\n",
        "from sklearn.ensemble import RandomForestClassifier\n",
        "import tensorflow as tf\n",
        "from tensorflow import keras"
      ],
      "execution_count": null,
      "outputs": []
    },
    {
      "cell_type": "code",
      "metadata": {
        "id": "xoOGLUd--5Hb"
      },
      "source": [
        "#test method\n",
        "def test_params(timeperiods):\n",
        "  df = crypto_data(timeperiods)\n",
        "  print(\"======================================================\")\n",
        "  print(\"test for periods: \", timeperiods)\n",
        "  example = df[\"df_BTC\"]\n",
        "  df_input = pd.DataFrame(columns = example.columns)\n",
        "  for single in df.values():\n",
        "    df_input = df_input.append(single)\n",
        "\n",
        "  df_output = np.zeros(df_input.shape[0])\n",
        "  for i in range(1, df_input.price.shape[0]):\n",
        "    diff = df_input.price.iloc[i] - df_input.price.iloc[i-1]\n",
        "    if diff > 0:\n",
        "      df_output[i] = 1\n",
        "    elif diff < 0:\n",
        "      df_output[i] = -1\n",
        "\n",
        "  df_input_test = df_input.iloc[::5]\n",
        "  df_input_train = df_input.iloc[1::5]\n",
        "  df_input_train = df_input_train.append(df_input.iloc[2::5])\n",
        "  df_input_train = df_input_train.append(df_input.iloc[3::5])\n",
        "  df_input_train = df_input_train.append(df_input.iloc[4::5])\n",
        "\n",
        "  df_output_test = df_output[::5]\n",
        "  df_output_train = df_output[1::5]\n",
        "  df_output_train = np.concatenate((df_output_train, df_output[2::5]))\n",
        "  df_output_train = np.concatenate((df_output_train, df_output[3::5]))\n",
        "  df_output_train = np.concatenate((df_output_train, df_output[4::5]))\n",
        "\n",
        "\n",
        "  clf = tree.DecisionTreeClassifier(max_depth=7)\n",
        "  clf = clf.fit(df_input_train, df_output_train)\n",
        "  preds = clf.predict(df_input_test)\n",
        "  print(\"decision tree score test: \", \n",
        "        clf.score(df_input_test, df_output_test), \n",
        "        \" up preds: \", np.sum(preds == 1),\n",
        "        \" down preds: \", np.sum(preds == -1),\n",
        "        \" 0 preds: \", np.sum(preds == -1))\n",
        "  print(\"decision tree score train: \", clf.score(df_input_train, df_output_train))\n",
        "\n",
        "\n",
        "  gnb = GaussianNB()\n",
        "  gnb.fit(df_input_train, df_output_train)\n",
        "  preds = gnb.predict(df_input_test)\n",
        "  print(\"Gaussian NB score test: \", \n",
        "        gnb.score(df_input_test, df_output_test),\n",
        "        \" up preds: \", np.sum(preds == 1),\n",
        "        \" down preds: \", np.sum(preds == -1),\n",
        "        \" 0 preds: \", np.sum(preds == -1)\n",
        "  )\n",
        "  print(\"Gaussian NB score train: \", gnb.score(df_input_train, df_output_train))\n",
        "\n",
        "  gnb = MultinomialNB()\n",
        "  gnb.fit(df_input_train, df_output_train)\n",
        "  preds = gnb.predict(df_input_test)\n",
        "  print(\"Multinomial NB score test: \", \n",
        "        gnb.score(df_input_test, df_output_test),\n",
        "        \" up preds: \", np.sum(preds == 1),\n",
        "        \" down preds: \", np.sum(preds == -1),\n",
        "        \" 0 preds: \", np.sum(preds == -1)\n",
        "  )\n",
        "  print(\"Multinomial NB score train: \", gnb.score(df_input_train, df_output_train))\n",
        "\n",
        "\n",
        "\n",
        "  clf = RandomForestClassifier(n_estimators=100, max_depth=3, random_state=0)\n",
        "  clf.fit(df_input_train, df_output_train)\n",
        "  preds = clf.predict(df_input_test)\n",
        "  print(\"random forest score test: \", \n",
        "        clf.score(df_input_test, df_output_test),\n",
        "        \" up preds: \", np.sum(preds == 1),\n",
        "        \" down preds: \", np.sum(preds == -1),\n",
        "        \" 0 preds: \", np.sum(preds == -1)\n",
        "  )\n",
        "  print(\"random forest score train: \", clf.score(df_input_train, df_output_train))\n",
        "\n",
        "\n",
        "\n",
        "  #model preparation\n",
        "  ds_output_NN_train = tf.one_hot(df_output_train, depth = 3)\n",
        "  ds_output_NN_test = tf.one_hot(df_output_test, depth = 3)\n",
        "\n",
        "  model = tf.keras.models.Sequential([                    \n",
        "    #tf.keras.layers.Conv1(filters= 2, kernel_size = 3, activation='tanh', use_bias=False),\n",
        "    #tf.keras.layers.MaxPool2D(),\n",
        "    #tf.keras.layers.Flatten(),\n",
        "    tf.keras.layers.Dense(10, use_bias=True, activation=\"relu\", input_shape=(df_input.shape[1],)),\n",
        "    tf.keras.layers.Dense(5, use_bias=True, activation=\"tanh\"),\n",
        "    tf.keras.layers.Dense(3, use_bias=True, activation=\"softmax\")\n",
        "  ])\n",
        "\n",
        "  model.compile(\n",
        "      optimizer=tf.keras.optimizers.Adam(0.0008),\n",
        "      loss=tf.keras.losses.CategoricalCrossentropy(),\n",
        "      metrics=[tf.keras.metrics.CategoricalAccuracy()],\n",
        "  )\n",
        "\n",
        "  model.fit(\n",
        "      df_input_train,\n",
        "      ds_output_NN_train,\n",
        "      epochs=10,\n",
        "      verbose = 0\n",
        "  )\n",
        "\n",
        "  print(\"NN score: \")\n",
        "  model.evaluate(df_input_test, ds_output_NN_test, verbose=1)\n",
        "  preds = model.predict(df_input_test)\n",
        "  print(\"NN score test: \", \n",
        "        \" up preds: \", np.sum(preds == 1),\n",
        "        \" down preds: \", np.sum(preds == -1),\n",
        "        \" 0 preds: \", np.sum(preds == -1)\n",
        "  )\n",
        "  print(\"======================================================\")"
      ],
      "execution_count": null,
      "outputs": []
    },
    {
      "cell_type": "code",
      "metadata": {
        "id": "dNntifhINT4g"
      },
      "source": [
        "for timeperiod  in [100, 200, 500, 700, 750, 800, 900, 1200]:\n",
        "  timeperiods = {}\n",
        "  timeperiods[\"BB\"] = timeperiod\n",
        "  timeperiods[\"EMA\"] = timeperiod\n",
        "  timeperiods[\"ADX0\"] = timeperiod\n",
        "  timeperiods[\"ADX0var\"] = timeperiod\n",
        "  timeperiods[\"ATR0\"] = timeperiod\n",
        "  timeperiods[\"ARO0\"] = timeperiod\n",
        "  timeperiods[\"WLR0\"] = timeperiod\n",
        "  test_params(timeperiods)"
      ],
      "execution_count": null,
      "outputs": []
    },
    {
      "cell_type": "code",
      "metadata": {
        "id": "OOTixTtkGBn2"
      },
      "source": [
        ""
      ],
      "execution_count": null,
      "outputs": []
    }
  ]
}